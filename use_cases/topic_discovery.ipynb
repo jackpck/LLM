{
 "cells": [
  {
   "cell_type": "markdown",
   "id": "1b4247c1",
   "metadata": {},
   "source": [
    "## Topic discovery: yelp review"
   ]
  },
  {
   "cell_type": "code",
   "execution_count": 1,
   "id": "8454322b",
   "metadata": {},
   "outputs": [
    {
     "name": "stderr",
     "output_type": "stream",
     "text": [
      "D:\\cygdrive\\d\\projects\\LLM_py38\\venv\\lib\\site-packages\\transformers\\utils\\generic.py:441: UserWarning: torch.utils._pytree._register_pytree_node is deprecated. Please use torch.utils._pytree.register_pytree_node instead.\n",
      "  _torch_pytree._register_pytree_node(\n",
      "D:\\cygdrive\\d\\projects\\LLM_py38\\venv\\lib\\site-packages\\transformers\\utils\\generic.py:309: UserWarning: torch.utils._pytree._register_pytree_node is deprecated. Please use torch.utils._pytree.register_pytree_node instead.\n",
      "  _torch_pytree._register_pytree_node(\n",
      "D:\\cygdrive\\d\\projects\\LLM_py38\\venv\\lib\\site-packages\\transformers\\utils\\generic.py:309: UserWarning: torch.utils._pytree._register_pytree_node is deprecated. Please use torch.utils._pytree.register_pytree_node instead.\n",
      "  _torch_pytree._register_pytree_node(\n"
     ]
    }
   ],
   "source": [
    "# from huggingface_hub import hf_hub_download \n",
    "import torch\n",
    "from datasets import load_dataset, load_from_disk\n",
    "import evaluate\n",
    "import transformers\n",
    "from transformers import pipeline\n",
    "from transformers import AutoTokenizer, AutoModelForCausalLM, AutoModelForSequenceClassification, AutoModelForSeq2SeqLM\n",
    "from transformers import MistralForCausalLM\n",
    "from transformers import TrainingArguments, Trainer\n",
    "from peft import LoraConfig, TaskType, get_peft_model\n",
    "from peft import PeftConfig, PeftModel\n",
    "from torch.utils.data import DataLoader\n",
    "from torch.utils.data.dataloader import default_collate\n",
    "from huggingface_hub import notebook_login\n",
    "from accelerate import init_empty_weights, load_checkpoint_and_dispatch, infer_auto_device_map, dispatch_model\n",
    "\n",
    "import pandas as pd\n",
    "import numpy as np\n",
    "from sklearn.decomposition import PCA\n",
    "from sklearn.manifold import TSNE\n",
    "from sklearn.preprocessing import StandardScaler\n",
    "from sklearn.cluster import KMeans\n",
    "from sklearn.pipeline import Pipeline\n",
    "import matplotlib.pyplot as plt\n",
    "import re\n",
    "import os\n",
    "import glob\n",
    "\n",
    "import nltk\n",
    "from nltk.stem import WordNetLemmatizer\n",
    "from nltk.tokenize import word_tokenize\n",
    "from nltk.corpus import stopwords\n",
    "from nltk.corpus import wordnet\n",
    "import string"
   ]
  },
  {
   "cell_type": "code",
   "execution_count": 2,
   "id": "2dc548bd",
   "metadata": {},
   "outputs": [
    {
     "name": "stdout",
     "output_type": "stream",
     "text": [
      "4.35.2\n"
     ]
    }
   ],
   "source": [
    "print(transformers.__version__)"
   ]
  },
  {
   "cell_type": "code",
   "execution_count": 3,
   "id": "9e33f758",
   "metadata": {},
   "outputs": [
    {
     "name": "stdout",
     "output_type": "stream",
     "text": [
      "2.3.0+cu118\n",
      "True\n"
     ]
    }
   ],
   "source": [
    "print(torch.__version__)\n",
    "print(torch.cuda.is_available())"
   ]
  },
  {
   "cell_type": "code",
   "execution_count": 4,
   "id": "463d6fb7",
   "metadata": {},
   "outputs": [
    {
     "name": "stdout",
     "output_type": "stream",
     "text": [
      "nvcc: NVIDIA (R) Cuda compiler driver\n",
      "Copyright (c) 2005-2022 NVIDIA Corporation\n",
      "Built on Wed_Sep_21_10:41:10_Pacific_Daylight_Time_2022\n",
      "Cuda compilation tools, release 11.8, V11.8.89\n",
      "Build cuda_11.8.r11.8/compiler.31833905_0\n"
     ]
    }
   ],
   "source": [
    "! nvcc --version"
   ]
  },
  {
   "cell_type": "code",
   "execution_count": 5,
   "id": "b797984e",
   "metadata": {},
   "outputs": [],
   "source": [
    "def tokenize_function(examples):\n",
    "    return tokenizer(examples[\"text\"], truncation=True)\n",
    "\n",
    "def load_tokenizer_llm(AutoModelForClass, model_name, model_path, cache_dir, to_device=True, **kwargs):\n",
    "    \"\"\"\n",
    "    if use load_in_4bit=True, do not set to_device=True\n",
    "    kwargs:\n",
    "        - device_map\n",
    "        - torch_dtype\n",
    "        - load_in_4bit\n",
    "    \"\"\"\n",
    "    if not os.path.isfile(model_path + '/tokenizer.json'):\n",
    "        print('no existing tokenizer found. Download from HF')\n",
    "        tokenizer = AutoTokenizer.from_pretrained(model_name, \n",
    "                                                  cache_dir=cache_dir,\n",
    "                                                  **kwargs\n",
    "                                                 ) # to load tokenizer to cache\n",
    "    else:\n",
    "        print('existing tokenizer found. Load from local')\n",
    "        tokenizer = AutoTokenizer.from_pretrained(model_path, \n",
    "                                                  cache_dir=cache_dir, \n",
    "                                                  local_flies_only=True)\n",
    "    if not bool(glob.glob(model_path + '/model*.safetensors')):\n",
    "        print('no existing model found. Download from HF')\n",
    "        model = AutoModelForClass.from_pretrained(model_name,\n",
    "                                                     cache_dir=cache_dir,\n",
    "                                                     **kwargs\n",
    "                                                    )\n",
    "    else:\n",
    "        print('existing model found. Load from local')\n",
    "        model = AutoModelForClass.from_pretrained(model_path, \n",
    "                                                 cache_dir=cache_dir,\n",
    "                                                 local_files_only=True)\n",
    "    \n",
    "    if to_device:\n",
    "        device = torch.device(\"cuda\") if torch.cuda.is_available() else torch.device(\"cpu\")\n",
    "        #device.reset()\n",
    "        model.to(device) # use GPU. Do not need this if using load_in_4bit as it's already been set to the correct devices\n",
    "        \n",
    "    return tokenizer, model"
   ]
  },
  {
   "cell_type": "code",
   "execution_count": 6,
   "id": "604e92d9",
   "metadata": {},
   "outputs": [],
   "source": [
    "llm_repo_dir = 'D:/projects/LLM'\n",
    "cache_dir = '/cygdrive/d/projects/LLM/.cache'\n",
    "os.environ['TRANSFORMERS_CACHE'] = cache_dir\n",
    "os.environ['HF_HOME'] = cache_dir + '/huggingface'\n",
    "os.environ['XDG_CACHE_HOME'] = cache_dir\n",
    "os.environ['HF_DATASETS_CACHE'] = cache_dir\n",
    "\n",
    "device = torch.device(\"cuda\") if torch.cuda.is_available() else torch.device(\"cpu\")"
   ]
  },
  {
   "cell_type": "code",
   "execution_count": 92,
   "id": "4ded8566",
   "metadata": {},
   "outputs": [
    {
     "name": "stdout",
     "output_type": "stream",
     "text": [
      "existing tokenizer found. Load from local\n",
      "existing model found. Load from local\n"
     ]
    },
    {
     "name": "stderr",
     "output_type": "stream",
     "text": [
      "Some weights of BertForSequenceClassification were not initialized from the model checkpoint at /cygdrive/d/projects/LLM/.cache/models--google-bert--bert-base-cased/snapshots/cd5ef92a9fb2f889e972770a36d4ed042daf221e and are newly initialized: ['classifier.bias', 'classifier.weight']\n",
      "You should probably TRAIN this model on a down-stream task to be able to use it for predictions and inference.\n"
     ]
    }
   ],
   "source": [
    "model_name = 'google-bert/bert-base-cased'\n",
    "model_path = cache_dir + '/models--google-bert--bert-base-cased/snapshots/cd5ef92a9fb2f889e972770a36d4ed042daf221e'\n",
    "\n",
    "AutoModelForClass = AutoModelForSequenceClassification\n",
    "to_device = True\n",
    "tokenizer, model = load_tokenizer_llm(AutoModelForClass, model_name, model_path, cache_dir, to_device=to_device)"
   ]
  },
  {
   "cell_type": "code",
   "execution_count": 7,
   "id": "d5cf0238",
   "metadata": {},
   "outputs": [],
   "source": [
    "dataset_path = cache_dir + '/parquet/yelp_polarity' # cache_dir + '/parquet/yelp_review_full-e22176106d6e7534'\n",
    "dataset_name = 'yelp_polarity' # yelp_review_full\n",
    "\n",
    "if not os.path.isdir(dataset_path):\n",
    "    dataset = load_dataset(dataset_name, cache_dir=cache_dir + '/parquet')\n",
    "else:\n",
    "    dataset = load_dataset(dataset_path)"
   ]
  },
  {
   "cell_type": "code",
   "execution_count": 8,
   "id": "30677093",
   "metadata": {},
   "outputs": [],
   "source": [
    "tokenized_data_path = cache_dir + '/tokenized_dataset_yelp_polarity_bert'\n",
    "\n",
    "tokenized_datasets = load_from_disk(tokenized_data_path)\n",
    "small_train_dataset = tokenized_datasets[\"train\"].shuffle(seed=42).select(range(1000))\n",
    "small_eval_dataset = tokenized_datasets[\"test\"].shuffle(seed=42).select(range(1000))"
   ]
  },
  {
   "cell_type": "code",
   "execution_count": 10,
   "id": "144f71b0",
   "metadata": {},
   "outputs": [
    {
     "name": "stdout",
     "output_type": "stream",
     "text": [
      "<class 'datasets.arrow_dataset.Dataset'>\n",
      "(1000, 5)\n"
     ]
    }
   ],
   "source": [
    "print(type(small_train_dataset))\n",
    "print(small_train_dataset.shape)"
   ]
  },
  {
   "cell_type": "code",
   "execution_count": 11,
   "id": "a7eb583d",
   "metadata": {},
   "outputs": [],
   "source": [
    "token_length = [len([x for x in y if x != 0]) for y in small_train_dataset['input_ids']]"
   ]
  },
  {
   "cell_type": "code",
   "execution_count": 12,
   "id": "d7a1e74f",
   "metadata": {},
   "outputs": [
    {
     "data": {
      "image/png": "[encoded data removed]",
      "text/plain": [
       "<Figure size 640x480 with 1 Axes>"
      ]
     },
     "metadata": {},
     "output_type": "display_data"
    }
   ],
   "source": [
    "plt.hist(token_length, bins=50)\n",
    "plt.show()"
   ]
  },
  {
   "cell_type": "markdown",
   "id": "8fbb94b4",
   "metadata": {},
   "source": [
    "### use pre-trained BERT cls token as comment embedding"
   ]
  },
  {
   "cell_type": "code",
   "execution_count": 30,
   "id": "ddbd6076",
   "metadata": {},
   "outputs": [],
   "source": [
    "input_ids = torch.tensor(small_train_dataset['input_ids'], device=device)"
   ]
  },
  {
   "cell_type": "code",
   "execution_count": 139,
   "id": "1eecc9b7",
   "metadata": {},
   "outputs": [
    {
     "name": "stdout",
     "output_type": "stream",
     "text": [
      "CPU times: total: 12.8 s\n",
      "Wall time: 38.7 s\n"
     ]
    }
   ],
   "source": [
    "%%time\n",
    "\n",
    "#cls_embedding = torch.tensor([]).to('cuda')\n",
    "cls_embedding = []\n",
    "\n",
    "with torch.no_grad():\n",
    "    for i in range(input_ids.shape[0]):\n",
    "        output = model(input_ids[i].reshape(1,-1),\n",
    "                      output_hidden_states=True)\n",
    "        #cls_embedding = torch.cat((cls_embedding, output.hidden_states[-1][0,0,:]), dim=-1)\n",
    "        cls_embedding.append(output.hidden_states[-1][0,0,:].cpu().numpy())\n",
    "cls_embedding = np.array(cls_embedding)"
   ]
  },
  {
   "cell_type": "code",
   "execution_count": 140,
   "id": "a8743e6d",
   "metadata": {
    "scrolled": false
   },
   "outputs": [
    {
     "name": "stderr",
     "output_type": "stream",
     "text": [
      "D:\\cygdrive\\d\\projects\\LLM_py38\\venv\\lib\\site-packages\\sklearn\\cluster\\_kmeans.py:1416: FutureWarning: The default value of `n_init` will change from 10 to 'auto' in 1.4. Set the value of `n_init` explicitly to suppress the warning\n",
      "  super()._check_params_vs_input(X, default_n_init=10)\n"
     ]
    },
    {
     "data": {
      "text/plain": [
       "<matplotlib.collections.PathCollection at 0x18af8549280>"
      ]
     },
     "execution_count": 140,
     "metadata": {},
     "output_type": "execute_result"
    },
    {
     "data": {
      "image/png": "[encoded data removed]",
      "text/plain": [
       "<Figure size 640x480 with 1 Axes>"
      ]
     },
     "metadata": {},
     "output_type": "display_data"
    }
   ],
   "source": [
    "pipe = Pipeline([('scaler',StandardScaler()),\n",
    "                 ('pca',PCA(n_components=20)),\n",
    "                 ('tsne',TSNE(perplexity=10, learning_rate=1, random_state=123))\n",
    "                ])\n",
    "cls_embedding_tsne = pipe.fit_transform(cls_embedding)\n",
    "km = KMeans(n_clusters=20)\n",
    "km.fit(cls_embedding_tsne)\n",
    "\n",
    "plt.scatter(cls_embedding_tsne[:,0],\n",
    "            cls_embedding_tsne[:,1], \n",
    "            s=2,\n",
    "            c=km.labels_)"
   ]
  },
  {
   "cell_type": "code",
   "execution_count": 141,
   "id": "42155aea",
   "metadata": {},
   "outputs": [],
   "source": [
    "nonzero_token_length = (np.array(small_train_dataset['input_ids'])!=0).sum(axis=1)\n",
    "\n",
    "df_comment_from_label = pd.DataFrame({'comment':small_train_dataset['text'],\n",
    "                                      'x':cls_embedding_tsne[:,0],\n",
    "                                      'y':cls_embedding_tsne[:,1],\n",
    "                                      'label':km.labels_,\n",
    "                                      'nonzero_token_length':nonzero_token_length,\n",
    "                                      'sentiment':small_train_dataset['label']})"
   ]
  },
  {
   "cell_type": "code",
   "execution_count": 142,
   "id": "23241b23",
   "metadata": {},
   "outputs": [
    {
     "data": {
      "text/html": [
       "<div>\n",
       "<style scoped>\n",
       "    .dataframe tbody tr th:only-of-type {\n",
       "        vertical-align: middle;\n",
       "    }\n",
       "\n",
       "    .dataframe tbody tr th {\n",
       "        vertical-align: top;\n",
       "    }\n",
       "\n",
       "    .dataframe thead th {\n",
       "        text-align: right;\n",
       "    }\n",
       "</style>\n",
       "<table border=\"1\" class=\"dataframe\">\n",
       "  <thead>\n",
       "    <tr style=\"text-align: right;\">\n",
       "      <th></th>\n",
       "      <th>nonzero_token_length</th>\n",
       "      <th>sentiment</th>\n",
       "    </tr>\n",
       "    <tr>\n",
       "      <th>label</th>\n",
       "      <th></th>\n",
       "      <th></th>\n",
       "    </tr>\n",
       "  </thead>\n",
       "  <tbody>\n",
       "    <tr>\n",
       "      <th>14</th>\n",
       "      <td>138.470588</td>\n",
       "      <td>0.323529</td>\n",
       "    </tr>\n",
       "    <tr>\n",
       "      <th>18</th>\n",
       "      <td>229.491803</td>\n",
       "      <td>0.327869</td>\n",
       "    </tr>\n",
       "    <tr>\n",
       "      <th>7</th>\n",
       "      <td>265.736842</td>\n",
       "      <td>0.342105</td>\n",
       "    </tr>\n",
       "    <tr>\n",
       "      <th>10</th>\n",
       "      <td>508.346939</td>\n",
       "      <td>0.346939</td>\n",
       "    </tr>\n",
       "    <tr>\n",
       "      <th>17</th>\n",
       "      <td>316.054054</td>\n",
       "      <td>0.351351</td>\n",
       "    </tr>\n",
       "    <tr>\n",
       "      <th>12</th>\n",
       "      <td>183.943396</td>\n",
       "      <td>0.358491</td>\n",
       "    </tr>\n",
       "    <tr>\n",
       "      <th>4</th>\n",
       "      <td>416.500000</td>\n",
       "      <td>0.406250</td>\n",
       "    </tr>\n",
       "    <tr>\n",
       "      <th>3</th>\n",
       "      <td>121.561404</td>\n",
       "      <td>0.421053</td>\n",
       "    </tr>\n",
       "    <tr>\n",
       "      <th>2</th>\n",
       "      <td>81.097222</td>\n",
       "      <td>0.486111</td>\n",
       "    </tr>\n",
       "    <tr>\n",
       "      <th>15</th>\n",
       "      <td>102.792453</td>\n",
       "      <td>0.528302</td>\n",
       "    </tr>\n",
       "    <tr>\n",
       "      <th>0</th>\n",
       "      <td>212.685714</td>\n",
       "      <td>0.542857</td>\n",
       "    </tr>\n",
       "    <tr>\n",
       "      <th>5</th>\n",
       "      <td>14.941176</td>\n",
       "      <td>0.558824</td>\n",
       "    </tr>\n",
       "    <tr>\n",
       "      <th>11</th>\n",
       "      <td>79.452381</td>\n",
       "      <td>0.571429</td>\n",
       "    </tr>\n",
       "    <tr>\n",
       "      <th>9</th>\n",
       "      <td>45.355556</td>\n",
       "      <td>0.577778</td>\n",
       "    </tr>\n",
       "    <tr>\n",
       "      <th>6</th>\n",
       "      <td>147.750000</td>\n",
       "      <td>0.596154</td>\n",
       "    </tr>\n",
       "    <tr>\n",
       "      <th>19</th>\n",
       "      <td>62.000000</td>\n",
       "      <td>0.600000</td>\n",
       "    </tr>\n",
       "    <tr>\n",
       "      <th>16</th>\n",
       "      <td>150.970149</td>\n",
       "      <td>0.611940</td>\n",
       "    </tr>\n",
       "    <tr>\n",
       "      <th>1</th>\n",
       "      <td>31.777778</td>\n",
       "      <td>0.682540</td>\n",
       "    </tr>\n",
       "    <tr>\n",
       "      <th>13</th>\n",
       "      <td>54.583333</td>\n",
       "      <td>0.687500</td>\n",
       "    </tr>\n",
       "    <tr>\n",
       "      <th>8</th>\n",
       "      <td>237.642857</td>\n",
       "      <td>0.696429</td>\n",
       "    </tr>\n",
       "  </tbody>\n",
       "</table>\n",
       "</div>"
      ],
      "text/plain": [
       "       nonzero_token_length  sentiment\n",
       "label                                 \n",
       "14               138.470588   0.323529\n",
       "18               229.491803   0.327869\n",
       "7                265.736842   0.342105\n",
       "10               508.346939   0.346939\n",
       "17               316.054054   0.351351\n",
       "12               183.943396   0.358491\n",
       "4                416.500000   0.406250\n",
       "3                121.561404   0.421053\n",
       "2                 81.097222   0.486111\n",
       "15               102.792453   0.528302\n",
       "0                212.685714   0.542857\n",
       "5                 14.941176   0.558824\n",
       "11                79.452381   0.571429\n",
       "9                 45.355556   0.577778\n",
       "6                147.750000   0.596154\n",
       "19                62.000000   0.600000\n",
       "16               150.970149   0.611940\n",
       "1                 31.777778   0.682540\n",
       "13                54.583333   0.687500\n",
       "8                237.642857   0.696429"
      ]
     },
     "execution_count": 142,
     "metadata": {},
     "output_type": "execute_result"
    }
   ],
   "source": [
    "df_comment_from_label.groupby('label')[['nonzero_token_length', 'sentiment']].mean().sort_values('sentiment')"
   ]
  },
  {
   "cell_type": "markdown",
   "id": "93bda6e4",
   "metadata": {},
   "source": [
    "### Look at cluster center"
   ]
  },
  {
   "cell_type": "code",
   "execution_count": 143,
   "id": "cc17b0ea",
   "metadata": {},
   "outputs": [
    {
     "data": {
      "image/png": "[encoded data removed]",
      "text/plain": [
       "<Figure size 640x480 with 1 Axes>"
      ]
     },
     "metadata": {},
     "output_type": "display_data"
    }
   ],
   "source": [
    "cluster_centers = df_comment_from_label.groupby('label')[['x','y']].mean()\n",
    "plt.scatter(comment_embedding_tsne[:,0],\n",
    "            comment_embedding_tsne[:,1], \n",
    "            s=2,\n",
    "            c=km.labels_)\n",
    "for cluster in range(cluster_centers.shape[0]):\n",
    "    plt.annotate(cluster, \n",
    "                 (cluster_centers.iloc[cluster]['x'], cluster_centers.iloc[cluster]['y']), \n",
    "                c='r')"
   ]
  },
  {
   "cell_type": "code",
   "execution_count": 144,
   "id": "20c31ace",
   "metadata": {},
   "outputs": [
    {
     "data": {
      "text/html": [
       "<div>\n",
       "<style scoped>\n",
       "    .dataframe tbody tr th:only-of-type {\n",
       "        vertical-align: middle;\n",
       "    }\n",
       "\n",
       "    .dataframe tbody tr th {\n",
       "        vertical-align: top;\n",
       "    }\n",
       "\n",
       "    .dataframe thead th {\n",
       "        text-align: right;\n",
       "    }\n",
       "</style>\n",
       "<table border=\"1\" class=\"dataframe\">\n",
       "  <thead>\n",
       "    <tr style=\"text-align: right;\">\n",
       "      <th></th>\n",
       "      <th>count</th>\n",
       "      <th>mean</th>\n",
       "      <th>std</th>\n",
       "    </tr>\n",
       "    <tr>\n",
       "      <th>label</th>\n",
       "      <th></th>\n",
       "      <th></th>\n",
       "      <th></th>\n",
       "    </tr>\n",
       "  </thead>\n",
       "  <tbody>\n",
       "    <tr>\n",
       "      <th>5</th>\n",
       "      <td>34.0</td>\n",
       "      <td>14.941176</td>\n",
       "      <td>5.882389</td>\n",
       "    </tr>\n",
       "    <tr>\n",
       "      <th>1</th>\n",
       "      <td>63.0</td>\n",
       "      <td>31.777778</td>\n",
       "      <td>5.865274</td>\n",
       "    </tr>\n",
       "    <tr>\n",
       "      <th>9</th>\n",
       "      <td>45.0</td>\n",
       "      <td>45.355556</td>\n",
       "      <td>6.650890</td>\n",
       "    </tr>\n",
       "    <tr>\n",
       "      <th>13</th>\n",
       "      <td>48.0</td>\n",
       "      <td>54.583333</td>\n",
       "      <td>7.964905</td>\n",
       "    </tr>\n",
       "    <tr>\n",
       "      <th>19</th>\n",
       "      <td>40.0</td>\n",
       "      <td>62.000000</td>\n",
       "      <td>8.755950</td>\n",
       "    </tr>\n",
       "    <tr>\n",
       "      <th>11</th>\n",
       "      <td>42.0</td>\n",
       "      <td>79.452381</td>\n",
       "      <td>19.287557</td>\n",
       "    </tr>\n",
       "    <tr>\n",
       "      <th>2</th>\n",
       "      <td>72.0</td>\n",
       "      <td>81.097222</td>\n",
       "      <td>7.406050</td>\n",
       "    </tr>\n",
       "    <tr>\n",
       "      <th>15</th>\n",
       "      <td>53.0</td>\n",
       "      <td>102.792453</td>\n",
       "      <td>8.113044</td>\n",
       "    </tr>\n",
       "    <tr>\n",
       "      <th>3</th>\n",
       "      <td>57.0</td>\n",
       "      <td>121.561404</td>\n",
       "      <td>7.676536</td>\n",
       "    </tr>\n",
       "    <tr>\n",
       "      <th>14</th>\n",
       "      <td>34.0</td>\n",
       "      <td>138.470588</td>\n",
       "      <td>14.718027</td>\n",
       "    </tr>\n",
       "    <tr>\n",
       "      <th>6</th>\n",
       "      <td>52.0</td>\n",
       "      <td>147.750000</td>\n",
       "      <td>26.474461</td>\n",
       "    </tr>\n",
       "    <tr>\n",
       "      <th>16</th>\n",
       "      <td>67.0</td>\n",
       "      <td>150.970149</td>\n",
       "      <td>14.517461</td>\n",
       "    </tr>\n",
       "    <tr>\n",
       "      <th>12</th>\n",
       "      <td>53.0</td>\n",
       "      <td>183.943396</td>\n",
       "      <td>14.706638</td>\n",
       "    </tr>\n",
       "    <tr>\n",
       "      <th>0</th>\n",
       "      <td>35.0</td>\n",
       "      <td>212.685714</td>\n",
       "      <td>51.259301</td>\n",
       "    </tr>\n",
       "    <tr>\n",
       "      <th>18</th>\n",
       "      <td>61.0</td>\n",
       "      <td>229.491803</td>\n",
       "      <td>18.934645</td>\n",
       "    </tr>\n",
       "    <tr>\n",
       "      <th>8</th>\n",
       "      <td>56.0</td>\n",
       "      <td>237.642857</td>\n",
       "      <td>44.684115</td>\n",
       "    </tr>\n",
       "    <tr>\n",
       "      <th>7</th>\n",
       "      <td>38.0</td>\n",
       "      <td>265.736842</td>\n",
       "      <td>19.662949</td>\n",
       "    </tr>\n",
       "    <tr>\n",
       "      <th>17</th>\n",
       "      <td>37.0</td>\n",
       "      <td>316.054054</td>\n",
       "      <td>23.013216</td>\n",
       "    </tr>\n",
       "    <tr>\n",
       "      <th>4</th>\n",
       "      <td>64.0</td>\n",
       "      <td>416.500000</td>\n",
       "      <td>38.740488</td>\n",
       "    </tr>\n",
       "    <tr>\n",
       "      <th>10</th>\n",
       "      <td>49.0</td>\n",
       "      <td>508.346939</td>\n",
       "      <td>11.325765</td>\n",
       "    </tr>\n",
       "  </tbody>\n",
       "</table>\n",
       "</div>"
      ],
      "text/plain": [
       "       count        mean        std\n",
       "label                              \n",
       "5       34.0   14.941176   5.882389\n",
       "1       63.0   31.777778   5.865274\n",
       "9       45.0   45.355556   6.650890\n",
       "13      48.0   54.583333   7.964905\n",
       "19      40.0   62.000000   8.755950\n",
       "11      42.0   79.452381  19.287557\n",
       "2       72.0   81.097222   7.406050\n",
       "15      53.0  102.792453   8.113044\n",
       "3       57.0  121.561404   7.676536\n",
       "14      34.0  138.470588  14.718027\n",
       "6       52.0  147.750000  26.474461\n",
       "16      67.0  150.970149  14.517461\n",
       "12      53.0  183.943396  14.706638\n",
       "0       35.0  212.685714  51.259301\n",
       "18      61.0  229.491803  18.934645\n",
       "8       56.0  237.642857  44.684115\n",
       "7       38.0  265.736842  19.662949\n",
       "17      37.0  316.054054  23.013216\n",
       "4       64.0  416.500000  38.740488\n",
       "10      49.0  508.346939  11.325765"
      ]
     },
     "execution_count": 144,
     "metadata": {},
     "output_type": "execute_result"
    }
   ],
   "source": [
    "df_comment_from_label.groupby('label')['nonzero_token_length'].describe()[['count','mean','std']].sort_values('mean')"
   ]
  },
  {
   "cell_type": "code",
   "execution_count": 145,
   "id": "becdb2de",
   "metadata": {},
   "outputs": [
    {
     "data": {
      "text/html": [
       "<div>\n",
       "<style scoped>\n",
       "    .dataframe tbody tr th:only-of-type {\n",
       "        vertical-align: middle;\n",
       "    }\n",
       "\n",
       "    .dataframe tbody tr th {\n",
       "        vertical-align: top;\n",
       "    }\n",
       "\n",
       "    .dataframe thead th {\n",
       "        text-align: right;\n",
       "    }\n",
       "</style>\n",
       "<table border=\"1\" class=\"dataframe\">\n",
       "  <thead>\n",
       "    <tr style=\"text-align: right;\">\n",
       "      <th></th>\n",
       "      <th>count</th>\n",
       "      <th>mean</th>\n",
       "      <th>std</th>\n",
       "    </tr>\n",
       "    <tr>\n",
       "      <th>label</th>\n",
       "      <th></th>\n",
       "      <th></th>\n",
       "      <th></th>\n",
       "    </tr>\n",
       "  </thead>\n",
       "  <tbody>\n",
       "    <tr>\n",
       "      <th>14</th>\n",
       "      <td>34.0</td>\n",
       "      <td>0.323529</td>\n",
       "      <td>0.474858</td>\n",
       "    </tr>\n",
       "    <tr>\n",
       "      <th>18</th>\n",
       "      <td>61.0</td>\n",
       "      <td>0.327869</td>\n",
       "      <td>0.473333</td>\n",
       "    </tr>\n",
       "    <tr>\n",
       "      <th>7</th>\n",
       "      <td>38.0</td>\n",
       "      <td>0.342105</td>\n",
       "      <td>0.480783</td>\n",
       "    </tr>\n",
       "    <tr>\n",
       "      <th>10</th>\n",
       "      <td>49.0</td>\n",
       "      <td>0.346939</td>\n",
       "      <td>0.480929</td>\n",
       "    </tr>\n",
       "    <tr>\n",
       "      <th>17</th>\n",
       "      <td>37.0</td>\n",
       "      <td>0.351351</td>\n",
       "      <td>0.483978</td>\n",
       "    </tr>\n",
       "    <tr>\n",
       "      <th>12</th>\n",
       "      <td>53.0</td>\n",
       "      <td>0.358491</td>\n",
       "      <td>0.484146</td>\n",
       "    </tr>\n",
       "    <tr>\n",
       "      <th>4</th>\n",
       "      <td>64.0</td>\n",
       "      <td>0.406250</td>\n",
       "      <td>0.495015</td>\n",
       "    </tr>\n",
       "    <tr>\n",
       "      <th>3</th>\n",
       "      <td>57.0</td>\n",
       "      <td>0.421053</td>\n",
       "      <td>0.498117</td>\n",
       "    </tr>\n",
       "    <tr>\n",
       "      <th>2</th>\n",
       "      <td>72.0</td>\n",
       "      <td>0.486111</td>\n",
       "      <td>0.503315</td>\n",
       "    </tr>\n",
       "    <tr>\n",
       "      <th>15</th>\n",
       "      <td>53.0</td>\n",
       "      <td>0.528302</td>\n",
       "      <td>0.503975</td>\n",
       "    </tr>\n",
       "    <tr>\n",
       "      <th>0</th>\n",
       "      <td>35.0</td>\n",
       "      <td>0.542857</td>\n",
       "      <td>0.505433</td>\n",
       "    </tr>\n",
       "    <tr>\n",
       "      <th>5</th>\n",
       "      <td>34.0</td>\n",
       "      <td>0.558824</td>\n",
       "      <td>0.503995</td>\n",
       "    </tr>\n",
       "    <tr>\n",
       "      <th>11</th>\n",
       "      <td>42.0</td>\n",
       "      <td>0.571429</td>\n",
       "      <td>0.500870</td>\n",
       "    </tr>\n",
       "    <tr>\n",
       "      <th>9</th>\n",
       "      <td>45.0</td>\n",
       "      <td>0.577778</td>\n",
       "      <td>0.499495</td>\n",
       "    </tr>\n",
       "    <tr>\n",
       "      <th>6</th>\n",
       "      <td>52.0</td>\n",
       "      <td>0.596154</td>\n",
       "      <td>0.495454</td>\n",
       "    </tr>\n",
       "    <tr>\n",
       "      <th>19</th>\n",
       "      <td>40.0</td>\n",
       "      <td>0.600000</td>\n",
       "      <td>0.496139</td>\n",
       "    </tr>\n",
       "    <tr>\n",
       "      <th>16</th>\n",
       "      <td>67.0</td>\n",
       "      <td>0.611940</td>\n",
       "      <td>0.490986</td>\n",
       "    </tr>\n",
       "    <tr>\n",
       "      <th>1</th>\n",
       "      <td>63.0</td>\n",
       "      <td>0.682540</td>\n",
       "      <td>0.469227</td>\n",
       "    </tr>\n",
       "    <tr>\n",
       "      <th>13</th>\n",
       "      <td>48.0</td>\n",
       "      <td>0.687500</td>\n",
       "      <td>0.468417</td>\n",
       "    </tr>\n",
       "    <tr>\n",
       "      <th>8</th>\n",
       "      <td>56.0</td>\n",
       "      <td>0.696429</td>\n",
       "      <td>0.463961</td>\n",
       "    </tr>\n",
       "  </tbody>\n",
       "</table>\n",
       "</div>"
      ],
      "text/plain": [
       "       count      mean       std\n",
       "label                           \n",
       "14      34.0  0.323529  0.474858\n",
       "18      61.0  0.327869  0.473333\n",
       "7       38.0  0.342105  0.480783\n",
       "10      49.0  0.346939  0.480929\n",
       "17      37.0  0.351351  0.483978\n",
       "12      53.0  0.358491  0.484146\n",
       "4       64.0  0.406250  0.495015\n",
       "3       57.0  0.421053  0.498117\n",
       "2       72.0  0.486111  0.503315\n",
       "15      53.0  0.528302  0.503975\n",
       "0       35.0  0.542857  0.505433\n",
       "5       34.0  0.558824  0.503995\n",
       "11      42.0  0.571429  0.500870\n",
       "9       45.0  0.577778  0.499495\n",
       "6       52.0  0.596154  0.495454\n",
       "19      40.0  0.600000  0.496139\n",
       "16      67.0  0.611940  0.490986\n",
       "1       63.0  0.682540  0.469227\n",
       "13      48.0  0.687500  0.468417\n",
       "8       56.0  0.696429  0.463961"
      ]
     },
     "execution_count": 145,
     "metadata": {},
     "output_type": "execute_result"
    }
   ],
   "source": [
    "df_comment_from_label.groupby('label')['sentiment'].describe()[['count','mean','std']].sort_values('mean')"
   ]
  },
  {
   "cell_type": "markdown",
   "id": "3ed7a1f7",
   "metadata": {},
   "source": [
    "### use fine-tuned BERT for word embedding"
   ]
  },
  {
   "cell_type": "code",
   "execution_count": 17,
   "id": "1d2d9609",
   "metadata": {},
   "outputs": [],
   "source": [
    "input_ids = torch.tensor(small_train_dataset['input_ids'], device=device)"
   ]
  },
  {
   "cell_type": "code",
   "execution_count": 34,
   "id": "37b77fa3",
   "metadata": {
    "scrolled": true
   },
   "outputs": [
    {
     "name": "stderr",
     "output_type": "stream",
     "text": [
      "D:\\cygdrive\\d\\projects\\LLM_py38\\venv\\lib\\site-packages\\transformers\\utils\\generic.py:309: UserWarning: torch.utils._pytree._register_pytree_node is deprecated. Please use torch.utils._pytree.register_pytree_node instead.\n",
      "  _torch_pytree._register_pytree_node(\n",
      "Some weights of BertForSequenceClassification were not initialized from the model checkpoint at /cygdrive/d/projects/LLM/.cache/models--google-bert--bert-base-cased/snapshots/cd5ef92a9fb2f889e972770a36d4ed042daf221e and are newly initialized: ['classifier.bias', 'classifier.weight']\n",
      "You should probably TRAIN this model on a down-stream task to be able to use it for predictions and inference.\n"
     ]
    },
    {
     "data": {
      "text/plain": [
       "PeftModelForSequenceClassification(\n",
       "  (base_model): LoraModel(\n",
       "    (model): BertForSequenceClassification(\n",
       "      (bert): BertModel(\n",
       "        (embeddings): BertEmbeddings(\n",
       "          (word_embeddings): Embedding(28996, 768, padding_idx=0)\n",
       "          (position_embeddings): Embedding(512, 768)\n",
       "          (token_type_embeddings): Embedding(2, 768)\n",
       "          (LayerNorm): LayerNorm((768,), eps=1e-12, elementwise_affine=True)\n",
       "          (dropout): Dropout(p=0.1, inplace=False)\n",
       "        )\n",
       "        (encoder): BertEncoder(\n",
       "          (layer): ModuleList(\n",
       "            (0-11): 12 x BertLayer(\n",
       "              (attention): BertAttention(\n",
       "                (self): BertSelfAttention(\n",
       "                  (query): Linear(\n",
       "                    in_features=768, out_features=768, bias=True\n",
       "                    (lora_dropout): Dropout(p=0.1, inplace=False)\n",
       "                    (lora_A): Linear(in_features=768, out_features=50, bias=False)\n",
       "                    (lora_B): Linear(in_features=50, out_features=768, bias=False)\n",
       "                  )\n",
       "                  (key): Linear(in_features=768, out_features=768, bias=True)\n",
       "                  (value): Linear(\n",
       "                    in_features=768, out_features=768, bias=True\n",
       "                    (lora_dropout): Dropout(p=0.1, inplace=False)\n",
       "                    (lora_A): Linear(in_features=768, out_features=50, bias=False)\n",
       "                    (lora_B): Linear(in_features=50, out_features=768, bias=False)\n",
       "                  )\n",
       "                  (dropout): Dropout(p=0.1, inplace=False)\n",
       "                )\n",
       "                (output): BertSelfOutput(\n",
       "                  (dense): Linear(in_features=768, out_features=768, bias=True)\n",
       "                  (LayerNorm): LayerNorm((768,), eps=1e-12, elementwise_affine=True)\n",
       "                  (dropout): Dropout(p=0.1, inplace=False)\n",
       "                )\n",
       "              )\n",
       "              (intermediate): BertIntermediate(\n",
       "                (dense): Linear(in_features=768, out_features=3072, bias=True)\n",
       "                (intermediate_act_fn): GELUActivation()\n",
       "              )\n",
       "              (output): BertOutput(\n",
       "                (dense): Linear(in_features=3072, out_features=768, bias=True)\n",
       "                (LayerNorm): LayerNorm((768,), eps=1e-12, elementwise_affine=True)\n",
       "                (dropout): Dropout(p=0.1, inplace=False)\n",
       "              )\n",
       "            )\n",
       "          )\n",
       "        )\n",
       "        (pooler): BertPooler(\n",
       "          (dense): Linear(in_features=768, out_features=768, bias=True)\n",
       "          (activation): Tanh()\n",
       "        )\n",
       "      )\n",
       "      (dropout): Dropout(p=0.1, inplace=False)\n",
       "      (classifier): Linear(in_features=768, out_features=2, bias=True)\n",
       "    )\n",
       "  )\n",
       ")"
      ]
     },
     "execution_count": 34,
     "metadata": {},
     "output_type": "execute_result"
    }
   ],
   "source": [
    "ft_model_dir = cache_dir + '/ft_lora_yelp_polarity'\n",
    "model_path = cache_dir + '/models--google-bert--bert-base-cased/snapshots/cd5ef92a9fb2f889e972770a36d4ed042daf221e'\n",
    "num_labels = 2\n",
    "model_pretrained = AutoModelForSequenceClassification.from_pretrained(model_path, \n",
    "                                                           num_labels=num_labels, \n",
    "                                                           cache_dir=cache_dir, \n",
    "                                                           local_files_only=True)\n",
    "model_lora = PeftModel.from_pretrained(model_pretrained, ft_model_dir)\n",
    "model_lora.to(device)\n",
    "model_lora.eval()"
   ]
  },
  {
   "cell_type": "code",
   "execution_count": 19,
   "id": "79c776c6",
   "metadata": {
    "scrolled": true
   },
   "outputs": [
    {
     "name": "stderr",
     "output_type": "stream",
     "text": [
      "We strongly recommend passing in an `attention_mask` since your input_ids may be padded. See https://huggingface.co/docs/transformers/troubleshooting#incorrect-output-when-padding-tokens-arent-masked.\n"
     ]
    },
    {
     "name": "stdout",
     "output_type": "stream",
     "text": [
      "CPU times: total: 29.6 s\n",
      "Wall time: 1min 2s\n"
     ]
    }
   ],
   "source": [
    "%%time\n",
    "\n",
    "#cls_embedding = torch.tensor([]).to('cuda')\n",
    "cls_embedding_lora = []\n",
    "\n",
    "with torch.no_grad():\n",
    "    for i in range(input_ids.shape[0]):\n",
    "        output = model_lora(input_ids[i].reshape(1,-1),\n",
    "                      output_hidden_states=True)\n",
    "        cls_embedding_lora.append(output.hidden_states[-1][0,0,:].cpu().numpy())\n",
    "cls_embedding_lora = np.array(cls_embedding_lora)"
   ]
  },
  {
   "cell_type": "code",
   "execution_count": 20,
   "id": "820fa300",
   "metadata": {},
   "outputs": [
    {
     "name": "stderr",
     "output_type": "stream",
     "text": [
      "D:\\cygdrive\\d\\projects\\LLM_py38\\venv\\lib\\site-packages\\sklearn\\cluster\\_kmeans.py:1416: FutureWarning: The default value of `n_init` will change from 10 to 'auto' in 1.4. Set the value of `n_init` explicitly to suppress the warning\n",
      "  super()._check_params_vs_input(X, default_n_init=10)\n"
     ]
    },
    {
     "data": {
      "text/plain": [
       "<matplotlib.collections.PathCollection at 0x2240259f7f0>"
      ]
     },
     "execution_count": 20,
     "metadata": {},
     "output_type": "execute_result"
    },
    {
     "data": {
      "image/png": "[encoded data removed]",
      "text/plain": [
       "<Figure size 640x480 with 1 Axes>"
      ]
     },
     "metadata": {},
     "output_type": "display_data"
    }
   ],
   "source": [
    "pipe = Pipeline([('scaler',StandardScaler()),\n",
    "                 ('pca',PCA(n_components=20)),\n",
    "                 ('tsne',TSNE(perplexity=20, learning_rate=1, random_state=123))\n",
    "                ])\n",
    "cls_embedding_lora_tsne = pipe.fit_transform(cls_embedding_lora)\n",
    "km_lora = KMeans(n_clusters=20)\n",
    "km_lora.fit(cls_embedding_lora_tsne)\n",
    "\n",
    "plt.scatter(cls_embedding_lora_tsne[:,0],\n",
    "            cls_embedding_lora_tsne[:,1], \n",
    "            s=2,\n",
    "            c=km_lora.labels_)"
   ]
  },
  {
   "cell_type": "code",
   "execution_count": 21,
   "id": "47d8aedf",
   "metadata": {},
   "outputs": [],
   "source": [
    "nonzero_token_length = (np.array(small_train_dataset['input_ids'])!=0).sum(axis=1)\n",
    "\n",
    "df_comment_from_label = pd.DataFrame({'comment':small_train_dataset['text'],\n",
    "                                      'x':cls_embedding_lora_tsne[:,0],\n",
    "                                      'y':cls_embedding_lora_tsne[:,1],\n",
    "                                      'label':km_lora.labels_,\n",
    "                                      'nonzero_token_length':nonzero_token_length,\n",
    "                                      'sentiment':small_train_dataset['label']})"
   ]
  },
  {
   "cell_type": "code",
   "execution_count": 22,
   "id": "0768ad08",
   "metadata": {},
   "outputs": [
    {
     "data": {
      "text/html": [
       "<div>\n",
       "<style scoped>\n",
       "    .dataframe tbody tr th:only-of-type {\n",
       "        vertical-align: middle;\n",
       "    }\n",
       "\n",
       "    .dataframe tbody tr th {\n",
       "        vertical-align: top;\n",
       "    }\n",
       "\n",
       "    .dataframe thead th {\n",
       "        text-align: right;\n",
       "    }\n",
       "</style>\n",
       "<table border=\"1\" class=\"dataframe\">\n",
       "  <thead>\n",
       "    <tr style=\"text-align: right;\">\n",
       "      <th></th>\n",
       "      <th>nonzero_token_length</th>\n",
       "      <th>sentiment</th>\n",
       "    </tr>\n",
       "    <tr>\n",
       "      <th>label</th>\n",
       "      <th></th>\n",
       "      <th></th>\n",
       "    </tr>\n",
       "  </thead>\n",
       "  <tbody>\n",
       "    <tr>\n",
       "      <th>10</th>\n",
       "      <td>161.982456</td>\n",
       "      <td>0.017544</td>\n",
       "    </tr>\n",
       "    <tr>\n",
       "      <th>4</th>\n",
       "      <td>249.548387</td>\n",
       "      <td>0.048387</td>\n",
       "    </tr>\n",
       "    <tr>\n",
       "      <th>6</th>\n",
       "      <td>392.615385</td>\n",
       "      <td>0.051282</td>\n",
       "    </tr>\n",
       "    <tr>\n",
       "      <th>19</th>\n",
       "      <td>121.300000</td>\n",
       "      <td>0.060000</td>\n",
       "    </tr>\n",
       "    <tr>\n",
       "      <th>18</th>\n",
       "      <td>504.030303</td>\n",
       "      <td>0.060606</td>\n",
       "    </tr>\n",
       "    <tr>\n",
       "      <th>2</th>\n",
       "      <td>143.000000</td>\n",
       "      <td>0.100000</td>\n",
       "    </tr>\n",
       "    <tr>\n",
       "      <th>12</th>\n",
       "      <td>266.764706</td>\n",
       "      <td>0.137255</td>\n",
       "    </tr>\n",
       "    <tr>\n",
       "      <th>13</th>\n",
       "      <td>74.550000</td>\n",
       "      <td>0.250000</td>\n",
       "    </tr>\n",
       "    <tr>\n",
       "      <th>3</th>\n",
       "      <td>103.660714</td>\n",
       "      <td>0.357143</td>\n",
       "    </tr>\n",
       "    <tr>\n",
       "      <th>9</th>\n",
       "      <td>22.515152</td>\n",
       "      <td>0.530303</td>\n",
       "    </tr>\n",
       "    <tr>\n",
       "      <th>1</th>\n",
       "      <td>47.732394</td>\n",
       "      <td>0.591549</td>\n",
       "    </tr>\n",
       "    <tr>\n",
       "      <th>5</th>\n",
       "      <td>244.567164</td>\n",
       "      <td>0.731343</td>\n",
       "    </tr>\n",
       "    <tr>\n",
       "      <th>15</th>\n",
       "      <td>151.750000</td>\n",
       "      <td>0.795455</td>\n",
       "    </tr>\n",
       "    <tr>\n",
       "      <th>7</th>\n",
       "      <td>43.754098</td>\n",
       "      <td>0.803279</td>\n",
       "    </tr>\n",
       "    <tr>\n",
       "      <th>17</th>\n",
       "      <td>463.170732</td>\n",
       "      <td>0.853659</td>\n",
       "    </tr>\n",
       "    <tr>\n",
       "      <th>11</th>\n",
       "      <td>75.119048</td>\n",
       "      <td>0.880952</td>\n",
       "    </tr>\n",
       "    <tr>\n",
       "      <th>8</th>\n",
       "      <td>81.500000</td>\n",
       "      <td>0.928571</td>\n",
       "    </tr>\n",
       "    <tr>\n",
       "      <th>0</th>\n",
       "      <td>240.349206</td>\n",
       "      <td>0.984127</td>\n",
       "    </tr>\n",
       "    <tr>\n",
       "      <th>14</th>\n",
       "      <td>149.136364</td>\n",
       "      <td>1.000000</td>\n",
       "    </tr>\n",
       "    <tr>\n",
       "      <th>16</th>\n",
       "      <td>112.600000</td>\n",
       "      <td>1.000000</td>\n",
       "    </tr>\n",
       "  </tbody>\n",
       "</table>\n",
       "</div>"
      ],
      "text/plain": [
       "       nonzero_token_length  sentiment\n",
       "label                                 \n",
       "10               161.982456   0.017544\n",
       "4                249.548387   0.048387\n",
       "6                392.615385   0.051282\n",
       "19               121.300000   0.060000\n",
       "18               504.030303   0.060606\n",
       "2                143.000000   0.100000\n",
       "12               266.764706   0.137255\n",
       "13                74.550000   0.250000\n",
       "3                103.660714   0.357143\n",
       "9                 22.515152   0.530303\n",
       "1                 47.732394   0.591549\n",
       "5                244.567164   0.731343\n",
       "15               151.750000   0.795455\n",
       "7                 43.754098   0.803279\n",
       "17               463.170732   0.853659\n",
       "11                75.119048   0.880952\n",
       "8                 81.500000   0.928571\n",
       "0                240.349206   0.984127\n",
       "14               149.136364   1.000000\n",
       "16               112.600000   1.000000"
      ]
     },
     "execution_count": 22,
     "metadata": {},
     "output_type": "execute_result"
    }
   ],
   "source": [
    "df_comment_from_label.groupby('label')[['nonzero_token_length', 'sentiment']].mean().sort_values('sentiment')"
   ]
  },
  {
   "cell_type": "code",
   "execution_count": 23,
   "id": "268d93ba",
   "metadata": {},
   "outputs": [
    {
     "data": {
      "text/html": [
       "<div>\n",
       "<style scoped>\n",
       "    .dataframe tbody tr th:only-of-type {\n",
       "        vertical-align: middle;\n",
       "    }\n",
       "\n",
       "    .dataframe tbody tr th {\n",
       "        vertical-align: top;\n",
       "    }\n",
       "\n",
       "    .dataframe thead th {\n",
       "        text-align: right;\n",
       "    }\n",
       "</style>\n",
       "<table border=\"1\" class=\"dataframe\">\n",
       "  <thead>\n",
       "    <tr style=\"text-align: right;\">\n",
       "      <th></th>\n",
       "      <th>count</th>\n",
       "      <th>mean</th>\n",
       "      <th>std</th>\n",
       "    </tr>\n",
       "    <tr>\n",
       "      <th>label</th>\n",
       "      <th></th>\n",
       "      <th></th>\n",
       "      <th></th>\n",
       "    </tr>\n",
       "  </thead>\n",
       "  <tbody>\n",
       "    <tr>\n",
       "      <th>10</th>\n",
       "      <td>57.0</td>\n",
       "      <td>0.017544</td>\n",
       "      <td>0.132453</td>\n",
       "    </tr>\n",
       "    <tr>\n",
       "      <th>4</th>\n",
       "      <td>62.0</td>\n",
       "      <td>0.048387</td>\n",
       "      <td>0.216335</td>\n",
       "    </tr>\n",
       "    <tr>\n",
       "      <th>6</th>\n",
       "      <td>39.0</td>\n",
       "      <td>0.051282</td>\n",
       "      <td>0.223456</td>\n",
       "    </tr>\n",
       "    <tr>\n",
       "      <th>19</th>\n",
       "      <td>50.0</td>\n",
       "      <td>0.060000</td>\n",
       "      <td>0.239898</td>\n",
       "    </tr>\n",
       "    <tr>\n",
       "      <th>18</th>\n",
       "      <td>33.0</td>\n",
       "      <td>0.060606</td>\n",
       "      <td>0.242306</td>\n",
       "    </tr>\n",
       "    <tr>\n",
       "      <th>2</th>\n",
       "      <td>30.0</td>\n",
       "      <td>0.100000</td>\n",
       "      <td>0.305129</td>\n",
       "    </tr>\n",
       "    <tr>\n",
       "      <th>12</th>\n",
       "      <td>51.0</td>\n",
       "      <td>0.137255</td>\n",
       "      <td>0.347540</td>\n",
       "    </tr>\n",
       "    <tr>\n",
       "      <th>13</th>\n",
       "      <td>60.0</td>\n",
       "      <td>0.250000</td>\n",
       "      <td>0.436667</td>\n",
       "    </tr>\n",
       "    <tr>\n",
       "      <th>3</th>\n",
       "      <td>56.0</td>\n",
       "      <td>0.357143</td>\n",
       "      <td>0.483494</td>\n",
       "    </tr>\n",
       "    <tr>\n",
       "      <th>9</th>\n",
       "      <td>66.0</td>\n",
       "      <td>0.530303</td>\n",
       "      <td>0.502905</td>\n",
       "    </tr>\n",
       "    <tr>\n",
       "      <th>1</th>\n",
       "      <td>71.0</td>\n",
       "      <td>0.591549</td>\n",
       "      <td>0.495046</td>\n",
       "    </tr>\n",
       "    <tr>\n",
       "      <th>5</th>\n",
       "      <td>67.0</td>\n",
       "      <td>0.731343</td>\n",
       "      <td>0.446606</td>\n",
       "    </tr>\n",
       "    <tr>\n",
       "      <th>15</th>\n",
       "      <td>44.0</td>\n",
       "      <td>0.795455</td>\n",
       "      <td>0.408032</td>\n",
       "    </tr>\n",
       "    <tr>\n",
       "      <th>7</th>\n",
       "      <td>61.0</td>\n",
       "      <td>0.803279</td>\n",
       "      <td>0.400819</td>\n",
       "    </tr>\n",
       "    <tr>\n",
       "      <th>17</th>\n",
       "      <td>41.0</td>\n",
       "      <td>0.853659</td>\n",
       "      <td>0.357839</td>\n",
       "    </tr>\n",
       "    <tr>\n",
       "      <th>11</th>\n",
       "      <td>42.0</td>\n",
       "      <td>0.880952</td>\n",
       "      <td>0.327770</td>\n",
       "    </tr>\n",
       "    <tr>\n",
       "      <th>8</th>\n",
       "      <td>28.0</td>\n",
       "      <td>0.928571</td>\n",
       "      <td>0.262265</td>\n",
       "    </tr>\n",
       "    <tr>\n",
       "      <th>0</th>\n",
       "      <td>63.0</td>\n",
       "      <td>0.984127</td>\n",
       "      <td>0.125988</td>\n",
       "    </tr>\n",
       "    <tr>\n",
       "      <th>14</th>\n",
       "      <td>44.0</td>\n",
       "      <td>1.000000</td>\n",
       "      <td>0.000000</td>\n",
       "    </tr>\n",
       "    <tr>\n",
       "      <th>16</th>\n",
       "      <td>35.0</td>\n",
       "      <td>1.000000</td>\n",
       "      <td>0.000000</td>\n",
       "    </tr>\n",
       "  </tbody>\n",
       "</table>\n",
       "</div>"
      ],
      "text/plain": [
       "       count      mean       std\n",
       "label                           \n",
       "10      57.0  0.017544  0.132453\n",
       "4       62.0  0.048387  0.216335\n",
       "6       39.0  0.051282  0.223456\n",
       "19      50.0  0.060000  0.239898\n",
       "18      33.0  0.060606  0.242306\n",
       "2       30.0  0.100000  0.305129\n",
       "12      51.0  0.137255  0.347540\n",
       "13      60.0  0.250000  0.436667\n",
       "3       56.0  0.357143  0.483494\n",
       "9       66.0  0.530303  0.502905\n",
       "1       71.0  0.591549  0.495046\n",
       "5       67.0  0.731343  0.446606\n",
       "15      44.0  0.795455  0.408032\n",
       "7       61.0  0.803279  0.400819\n",
       "17      41.0  0.853659  0.357839\n",
       "11      42.0  0.880952  0.327770\n",
       "8       28.0  0.928571  0.262265\n",
       "0       63.0  0.984127  0.125988\n",
       "14      44.0  1.000000  0.000000\n",
       "16      35.0  1.000000  0.000000"
      ]
     },
     "execution_count": 23,
     "metadata": {},
     "output_type": "execute_result"
    }
   ],
   "source": [
    "df_comment_from_label.groupby('label')['sentiment'].describe()[['count','mean','std']].sort_values('mean')"
   ]
  },
  {
   "cell_type": "markdown",
   "id": "bf8175d5",
   "metadata": {},
   "source": [
    "## LDA"
   ]
  },
  {
   "cell_type": "code",
   "execution_count": null,
   "id": "efee3c7f",
   "metadata": {},
   "outputs": [],
   "source": [
    "# lowercase\n",
    "# remove punctuations\n",
    "# tokenization\n",
    "# remove stopwords\n",
    "# lemmatization\n",
    "# tfidf\n",
    "# LDA"
   ]
  },
  {
   "cell_type": "markdown",
   "id": "59333d47",
   "metadata": {},
   "source": [
    "## LDA on cluster of words from BERT"
   ]
  },
  {
   "cell_type": "code",
   "execution_count": 46,
   "id": "708bded4",
   "metadata": {},
   "outputs": [
    {
     "name": "stdout",
     "output_type": "stream",
     "text": [
      "['i', 'me', 'my', 'myself', 'we', 'our', 'ours', 'ourselves', 'you', \"you're\", \"you've\", \"you'll\", \"you'd\", 'your', 'yours', 'yourself', 'yourselves', 'he', 'him', 'his', 'himself', 'she', \"she's\", 'her', 'hers', 'herself', 'it', \"it's\", 'its', 'itself', 'they', 'them', 'their', 'theirs', 'themselves', 'what', 'which', 'who', 'whom', 'this', 'that', \"that'll\", 'these', 'those', 'am', 'is', 'are', 'was', 'were', 'be', 'been', 'being', 'have', 'has', 'had', 'having', 'do', 'does', 'did', 'doing', 'a', 'an', 'the', 'and', 'but', 'if', 'or', 'because', 'as', 'until', 'while', 'of', 'at', 'by', 'for', 'with', 'about', 'against', 'between', 'into', 'through', 'during', 'before', 'after', 'above', 'below', 'to', 'from', 'up', 'down', 'in', 'out', 'on', 'off', 'over', 'under', 'again', 'further', 'then', 'once', 'here', 'there', 'when', 'where', 'why', 'how', 'all', 'any', 'both', 'each', 'few', 'more', 'most', 'other', 'some', 'such', 'no', 'nor', 'not', 'only', 'own', 'same', 'so', 'than', 'too', 'very', 's', 't', 'can', 'will', 'just', 'don', \"don't\", 'should', \"should've\", 'now', 'd', 'll', 'm', 'o', 're', 've', 'y', 'ain', 'aren', \"aren't\", 'couldn', \"couldn't\", 'didn', \"didn't\", 'doesn', \"doesn't\", 'hadn', \"hadn't\", 'hasn', \"hasn't\", 'haven', \"haven't\", 'isn', \"isn't\", 'ma', 'mightn', \"mightn't\", 'mustn', \"mustn't\", 'needn', \"needn't\", 'shan', \"shan't\", 'shouldn', \"shouldn't\", 'wasn', \"wasn't\", 'weren', \"weren't\", 'won', \"won't\", 'wouldn', \"wouldn't\"]\n"
     ]
    },
    {
     "name": "stderr",
     "output_type": "stream",
     "text": [
      "[nltk_data] Downloading package stopwords to\n",
      "[nltk_data]     C:\\Users\\jacky\\AppData\\Roaming\\nltk_data...\n",
      "[nltk_data]   Unzipping corpora\\stopwords.zip.\n"
     ]
    }
   ],
   "source": [
    "nltk.download('stopwords')\n",
    "print(stopwords.words('english'))"
   ]
  },
  {
   "cell_type": "code",
   "execution_count": 86,
   "id": "738ac2ab",
   "metadata": {},
   "outputs": [],
   "source": [
    "def remove_punctuation(x):\n",
    "    return x.translate(str.maketrans('', '', string.punctuation))\n",
    "\n",
    "def preprocess_pipeline(x):\n",
    "    x = x.lower()\n",
    "    x = remove_punctuation(x)\n",
    "    x = word_tokenize(x)\n",
    "    x = [s for s in x if s not in stopwords.words('english')]\n",
    "    return x\n",
    "    \n",
    "class Lemmatizer:\n",
    "    def __init__(self):\n",
    "        self.lemmatizer = WordNetLemmatizer()\n",
    "        \n",
    "    def fit(self, X, y):\n",
    "        return self\n",
    "    \n",
    "    def nltk_pos_tagger(self, nltk_tag):\n",
    "        if nltk_tag.startswith('J'):\n",
    "            return wordnet.ADJ\n",
    "        elif nltk_tag.startswith('V'):\n",
    "            return wordnet.VERB\n",
    "        elif nltk_tag.startswith('N'):\n",
    "            return wordnet.NOUN\n",
    "        elif nltk_tag.startswith('R'):\n",
    "            return wordnet.ADV\n",
    "        else:\n",
    "            return None\n",
    "        \n",
    "    def lemmatize_sentence(self, sentence):\n",
    "        nltk_tagged = nltk.pos_tag(nltk.word_tokenize(sentence))\n",
    "        wordnet_tagged = map(lambda x: (x[0], self.nltk_pos_tagger(x[1])), nltk_tagged)\n",
    "        lemmatized_sentence = []\n",
    "        \n",
    "        for word, tag in wordnet_tagged:\n",
    "            if tag is None:\n",
    "                lemmatized_sentence.append(word)\n",
    "            else:\n",
    "                lemmatized_sentence.append(self.lemmatizer.lemmatize(word, tag))\n",
    "                \n",
    "        return str(lemmatized_sentence)\n",
    "    \n",
    "    def transform(self, x):\n",
    "        return list(map(lambda x: self.lemmatize_sentence(x), x))"
   ]
  },
  {
   "cell_type": "code",
   "execution_count": 87,
   "id": "97f3d8f1",
   "metadata": {},
   "outputs": [
    {
     "data": {
      "text/plain": [
       "['decent',\n",
       " 'size',\n",
       " 'decent',\n",
       " 'selection',\n",
       " 'decent',\n",
       " 'staffnni',\n",
       " 'guess',\n",
       " 'wholly',\n",
       " 'sum',\n",
       " 'place',\n",
       " 'decent',\n",
       " 'many',\n",
       " 'stores',\n",
       " 'like',\n",
       " 'product',\n",
       " 'rotates',\n",
       " 'depending',\n",
       " 'doesnt',\n",
       " 'sale',\n",
       " 'well',\n",
       " 'stores',\n",
       " 'always',\n",
       " 'snag',\n",
       " 'deal',\n",
       " 'able',\n",
       " 'pick',\n",
       " 'pretty',\n",
       " 'sweet',\n",
       " 'puma',\n",
       " 'jacket',\n",
       " '10',\n",
       " 'cant',\n",
       " 'beat',\n",
       " 'rightnnthat',\n",
       " 'said',\n",
       " 'times',\n",
       " 'may',\n",
       " 'find',\n",
       " 'anything',\n",
       " 'well',\n",
       " 'really',\n",
       " 'dont',\n",
       " 'get',\n",
       " 'hopes',\n",
       " 'looking',\n",
       " 'specific',\n",
       " 'item']"
      ]
     },
     "execution_count": 87,
     "metadata": {},
     "output_type": "execute_result"
    }
   ],
   "source": [
    "sample = preprocess_pipeline(small_train_dataset['text'][0])\n",
    "sample"
   ]
  },
  {
   "cell_type": "code",
   "execution_count": 85,
   "id": "70efb1f7",
   "metadata": {},
   "outputs": [
    {
     "data": {
      "text/plain": [
       "[\"['decent']\",\n",
       " \"['size']\",\n",
       " \"['decent']\",\n",
       " \"['selection']\",\n",
       " \"['decent']\",\n",
       " \"['staffnni']\",\n",
       " \"['guess']\",\n",
       " \"['wholly']\",\n",
       " \"['sum']\",\n",
       " \"['place']\",\n",
       " \"['decent']\",\n",
       " \"['many']\",\n",
       " \"['store']\",\n",
       " \"['like']\",\n",
       " \"['product']\",\n",
       " \"['rotates']\",\n",
       " \"['depend']\",\n",
       " \"['doesnt']\",\n",
       " \"['sale']\",\n",
       " \"['well']\",\n",
       " \"['store']\",\n",
       " \"['always']\",\n",
       " \"['snag']\",\n",
       " \"['deal']\",\n",
       " \"['able']\",\n",
       " \"['pick']\",\n",
       " \"['pretty']\",\n",
       " \"['sweet']\",\n",
       " \"['puma']\",\n",
       " \"['jacket']\",\n",
       " \"['10']\",\n",
       " \"['cant']\",\n",
       " \"['beat']\",\n",
       " \"['rightnnthat']\",\n",
       " \"['say']\",\n",
       " \"['time']\",\n",
       " \"['may']\",\n",
       " \"['find']\",\n",
       " \"['anything']\",\n",
       " \"['well']\",\n",
       " \"['really']\",\n",
       " \"['dont']\",\n",
       " \"['get']\",\n",
       " \"['hope']\",\n",
       " \"['look']\",\n",
       " \"['specific']\",\n",
       " \"['item']\"]"
      ]
     },
     "execution_count": 85,
     "metadata": {},
     "output_type": "execute_result"
    }
   ],
   "source": [
    "lemmatizer = Lemmatizer()\n",
    "lemmatizer.transform(sample)"
   ]
  },
  {
   "cell_type": "code",
   "execution_count": null,
   "id": "40b22e5c",
   "metadata": {},
   "outputs": [],
   "source": [
    "%%time\n",
    "\n",
    "#cls_embedding = torch.tensor([]).to('cuda')\n",
    "word_embedding_lora = []\n",
    "\n",
    "with torch.no_grad():\n",
    "    for i in range(input_ids.shape[0]):\n",
    "        output = model_lora(input_ids[i].reshape(1,-1),\n",
    "                      output_hidden_states=True)\n",
    "        cls_embedding_lora.append(output.hidden_states[-1][0,0,:].cpu().numpy())\n",
    "cls_embedding_lora = np.array(cls_embedding_lora)"
   ]
  },
  {
   "cell_type": "code",
   "execution_count": 35,
   "id": "ad61c031",
   "metadata": {},
   "outputs": [
    {
     "name": "stderr",
     "output_type": "stream",
     "text": [
      "We strongly recommend passing in an `attention_mask` since your input_ids may be padded. See https://huggingface.co/docs/transformers/troubleshooting#incorrect-output-when-padding-tokens-arent-masked.\n"
     ]
    }
   ],
   "source": [
    "output = model_lora(input_ids[0].reshape(1,-1),\n",
    "                      output_hidden_states=True)"
   ]
  },
  {
   "cell_type": "code",
   "execution_count": 42,
   "id": "d9f3dcb4",
   "metadata": {},
   "outputs": [
    {
     "data": {
      "text/plain": [
       "torch.Size([512, 768])"
      ]
     },
     "execution_count": 42,
     "metadata": {},
     "output_type": "execute_result"
    }
   ],
   "source": [
    "output.hidden_states[-1][0,:,:].shape"
   ]
  },
  {
   "cell_type": "markdown",
   "id": "c93ab2dc",
   "metadata": {},
   "source": [
    "### Challenge of using word embedding in LDA\n",
    "BERT is not a good word embedding model. Subword tokenizer makes it very difficult to create an embedding for a word."
   ]
  },
  {
   "cell_type": "code",
   "execution_count": null,
   "id": "d889d38e",
   "metadata": {},
   "outputs": [],
   "source": []
  }
 ],
 "metadata": {
  "kernelspec": {
   "display_name": "LLMpy38",
   "language": "python",
   "name": "llmpy38"
  },
  "language_info": {
   "codemirror_mode": {
    "name": "ipython",
    "version": 3
   },
   "file_extension": ".py",
   "mimetype": "text/x-python",
   "name": "python",
   "nbconvert_exporter": "python",
   "pygments_lexer": "ipython3",
   "version": "3.8.0"
  }
 },
 "nbformat": 4,
 "nbformat_minor": 5
}
