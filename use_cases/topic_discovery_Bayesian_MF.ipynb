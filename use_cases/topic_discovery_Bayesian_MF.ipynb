{
 "cells": [
  {
   "cell_type": "markdown",
   "id": "1b4247c1",
   "metadata": {},
   "source": [
    "## Topic discovery: yelp review"
   ]
  },
  {
   "cell_type": "code",
   "execution_count": 1,
   "id": "8454322b",
   "metadata": {},
   "outputs": [
    {
     "name": "stderr",
     "output_type": "stream",
     "text": [
      "D:\\cygdrive\\d\\projects\\LLM_py38\\venv\\lib\\site-packages\\transformers\\utils\\generic.py:441: UserWarning: torch.utils._pytree._register_pytree_node is deprecated. Please use torch.utils._pytree.register_pytree_node instead.\n",
      "  _torch_pytree._register_pytree_node(\n",
      "D:\\cygdrive\\d\\projects\\LLM_py38\\venv\\lib\\site-packages\\transformers\\utils\\generic.py:309: UserWarning: torch.utils._pytree._register_pytree_node is deprecated. Please use torch.utils._pytree.register_pytree_node instead.\n",
      "  _torch_pytree._register_pytree_node(\n",
      "D:\\cygdrive\\d\\projects\\LLM_py38\\venv\\lib\\site-packages\\transformers\\utils\\generic.py:309: UserWarning: torch.utils._pytree._register_pytree_node is deprecated. Please use torch.utils._pytree.register_pytree_node instead.\n",
      "  _torch_pytree._register_pytree_node(\n"
     ]
    }
   ],
   "source": [
    "# from huggingface_hub import hf_hub_download \n",
    "import torch\n",
    "from datasets import load_dataset, load_from_disk\n",
    "import evaluate\n",
    "import transformers\n",
    "from transformers import pipeline\n",
    "from transformers import AutoTokenizer, AutoModelForCausalLM, AutoModelForSequenceClassification, AutoModelForSeq2SeqLM\n",
    "from transformers import TrainingArguments, Trainer\n",
    "from peft import LoraConfig, TaskType, get_peft_model\n",
    "from peft import PeftConfig, PeftModel\n",
    "from torch.utils.data import DataLoader\n",
    "from torch.utils.data.dataloader import default_collate\n",
    "from huggingface_hub import notebook_login\n",
    "from accelerate import init_empty_weights, load_checkpoint_and_dispatch, infer_auto_device_map, dispatch_model\n",
    "\n",
    "import pandas as pd\n",
    "import numpy as np\n",
    "from sklearn.decomposition import PCA, NMF, non_negative_factorization\n",
    "from sklearn.manifold import TSNE\n",
    "from sklearn.preprocessing import StandardScaler\n",
    "from sklearn.cluster import KMeans\n",
    "from sklearn.pipeline import Pipeline\n",
    "from sklearn.feature_extraction.text import TfidfVectorizer\n",
    "import matplotlib.pyplot as plt\n",
    "import re\n",
    "import os\n",
    "import glob\n",
    "import itertools\n",
    "\n",
    "import nltk\n",
    "from nltk.stem import WordNetLemmatizer\n",
    "from nltk.tokenize import word_tokenize\n",
    "from nltk.corpus import stopwords\n",
    "from nltk.corpus import wordnet\n",
    "import string"
   ]
  },
  {
   "cell_type": "code",
   "execution_count": 2,
   "id": "2dc548bd",
   "metadata": {},
   "outputs": [
    {
     "name": "stdout",
     "output_type": "stream",
     "text": [
      "4.35.2\n"
     ]
    }
   ],
   "source": [
    "print(transformers.__version__)"
   ]
  },
  {
   "cell_type": "code",
   "execution_count": 3,
   "id": "9e33f758",
   "metadata": {},
   "outputs": [
    {
     "name": "stdout",
     "output_type": "stream",
     "text": [
      "2.3.0+cu118\n",
      "True\n"
     ]
    }
   ],
   "source": [
    "print(torch.__version__)\n",
    "print(torch.cuda.is_available())"
   ]
  },
  {
   "cell_type": "code",
   "execution_count": 4,
   "id": "463d6fb7",
   "metadata": {},
   "outputs": [
    {
     "name": "stdout",
     "output_type": "stream",
     "text": [
      "nvcc: NVIDIA (R) Cuda compiler driver\n",
      "Copyright (c) 2005-2022 NVIDIA Corporation\n",
      "Built on Wed_Sep_21_10:41:10_Pacific_Daylight_Time_2022\n",
      "Cuda compilation tools, release 11.8, V11.8.89\n",
      "Build cuda_11.8.r11.8/compiler.31833905_0\n"
     ]
    }
   ],
   "source": [
    "! nvcc --version"
   ]
  },
  {
   "cell_type": "code",
   "execution_count": 5,
   "id": "b797984e",
   "metadata": {},
   "outputs": [],
   "source": [
    "def tokenize_function(examples):\n",
    "    return tokenizer(examples[\"text\"], truncation=True)\n",
    "\n",
    "def load_tokenizer_llm(AutoModelForClass, model_name, model_path, cache_dir, to_device=True, **kwargs):\n",
    "    \"\"\"\n",
    "    if use load_in_4bit=True, do not set to_device=True\n",
    "    kwargs:\n",
    "        - device_map\n",
    "        - torch_dtype\n",
    "        - load_in_4bit\n",
    "    \"\"\"\n",
    "    if not os.path.isfile(model_path + '/tokenizer.json'):\n",
    "        print('no existing tokenizer found. Download from HF')\n",
    "        tokenizer = AutoTokenizer.from_pretrained(model_name, \n",
    "                                                  cache_dir=cache_dir,\n",
    "                                                  **kwargs\n",
    "                                                 ) # to load tokenizer to cache\n",
    "    else:\n",
    "        print('existing tokenizer found. Load from local')\n",
    "        tokenizer = AutoTokenizer.from_pretrained(model_path, \n",
    "                                                  cache_dir=cache_dir, \n",
    "                                                  local_flies_only=True)\n",
    "    if not bool(glob.glob(model_path + '/model*.safetensors')):\n",
    "        print('no existing model found. Download from HF')\n",
    "        model = AutoModelForClass.from_pretrained(model_name,\n",
    "                                                     cache_dir=cache_dir,\n",
    "                                                     **kwargs\n",
    "                                                    )\n",
    "    else:\n",
    "        print('existing model found. Load from local')\n",
    "        model = AutoModelForClass.from_pretrained(model_path, \n",
    "                                                 cache_dir=cache_dir,\n",
    "                                                 local_files_only=True)\n",
    "    \n",
    "    if to_device:\n",
    "        device = torch.device(\"cuda\") if torch.cuda.is_available() else torch.device(\"cpu\")\n",
    "        #device.reset()\n",
    "        model.to(device) # use GPU. Do not need this if using load_in_4bit as it's already been set to the correct devices\n",
    "        \n",
    "    return tokenizer, model"
   ]
  },
  {
   "cell_type": "code",
   "execution_count": 6,
   "id": "604e92d9",
   "metadata": {},
   "outputs": [],
   "source": [
    "llm_repo_dir = 'D:/projects/LLM'\n",
    "cache_dir = '/cygdrive/d/projects/LLM/.cache'\n",
    "os.environ['TRANSFORMERS_CACHE'] = cache_dir\n",
    "os.environ['HF_HOME'] = cache_dir + '/huggingface'\n",
    "os.environ['XDG_CACHE_HOME'] = cache_dir\n",
    "os.environ['HF_DATASETS_CACHE'] = cache_dir\n",
    "\n",
    "device = torch.device(\"cuda\") if torch.cuda.is_available() else torch.device(\"cpu\")"
   ]
  },
  {
   "cell_type": "code",
   "execution_count": 7,
   "id": "4ded8566",
   "metadata": {},
   "outputs": [
    {
     "name": "stdout",
     "output_type": "stream",
     "text": [
      "existing tokenizer found. Load from local\n",
      "existing model found. Load from local\n"
     ]
    },
    {
     "name": "stderr",
     "output_type": "stream",
     "text": [
      "D:\\cygdrive\\d\\projects\\LLM_py38\\venv\\lib\\site-packages\\transformers\\utils\\generic.py:309: UserWarning: torch.utils._pytree._register_pytree_node is deprecated. Please use torch.utils._pytree.register_pytree_node instead.\n",
      "  _torch_pytree._register_pytree_node(\n",
      "Some weights of BertForSequenceClassification were not initialized from the model checkpoint at /cygdrive/d/projects/LLM/.cache/models--google-bert--bert-base-cased/snapshots/cd5ef92a9fb2f889e972770a36d4ed042daf221e and are newly initialized: ['classifier.bias', 'classifier.weight']\n",
      "You should probably TRAIN this model on a down-stream task to be able to use it for predictions and inference.\n"
     ]
    }
   ],
   "source": [
    "model_name = 'google-bert/bert-base-cased'\n",
    "model_path = cache_dir + '/models--google-bert--bert-base-cased/snapshots/cd5ef92a9fb2f889e972770a36d4ed042daf221e'\n",
    "\n",
    "AutoModelForClass = AutoModelForSequenceClassification\n",
    "to_device = True\n",
    "tokenizer, model = load_tokenizer_llm(AutoModelForClass, model_name, model_path, cache_dir, to_device=to_device)"
   ]
  },
  {
   "cell_type": "code",
   "execution_count": 8,
   "id": "d5cf0238",
   "metadata": {},
   "outputs": [],
   "source": [
    "dataset_path = cache_dir + '/parquet/yelp_polarity' # cache_dir + '/parquet/yelp_review_full-e22176106d6e7534'\n",
    "dataset_name = 'yelp_polarity' # yelp_review_full\n",
    "\n",
    "if not os.path.isdir(dataset_path):\n",
    "    dataset = load_dataset(dataset_name, cache_dir=cache_dir + '/parquet')\n",
    "else:\n",
    "    dataset = load_dataset(dataset_path)"
   ]
  },
  {
   "cell_type": "code",
   "execution_count": 9,
   "id": "30677093",
   "metadata": {},
   "outputs": [],
   "source": [
    "tokenized_data_path = cache_dir + '/tokenized_dataset_yelp_polarity_bert'\n",
    "\n",
    "tokenized_datasets = load_from_disk(tokenized_data_path)\n",
    "small_train_dataset = tokenized_datasets[\"train\"].shuffle(seed=42).select(range(1000))\n",
    "small_eval_dataset = tokenized_datasets[\"test\"].shuffle(seed=42).select(range(1000))"
   ]
  },
  {
   "cell_type": "code",
   "execution_count": 10,
   "id": "144f71b0",
   "metadata": {},
   "outputs": [
    {
     "name": "stdout",
     "output_type": "stream",
     "text": [
      "<class 'datasets.arrow_dataset.Dataset'>\n",
      "(1000, 5)\n"
     ]
    }
   ],
   "source": [
    "print(type(small_train_dataset))\n",
    "print(small_train_dataset.shape)"
   ]
  },
  {
   "cell_type": "markdown",
   "id": "3ed7a1f7",
   "metadata": {},
   "source": [
    "### use fine-tuned BERT for word embedding"
   ]
  },
  {
   "cell_type": "code",
   "execution_count": 11,
   "id": "1d2d9609",
   "metadata": {},
   "outputs": [],
   "source": [
    "input_ids = torch.tensor(small_train_dataset['input_ids'], device=device)"
   ]
  },
  {
   "cell_type": "code",
   "execution_count": 12,
   "id": "37b77fa3",
   "metadata": {
    "scrolled": true
   },
   "outputs": [
    {
     "name": "stderr",
     "output_type": "stream",
     "text": [
      "Some weights of BertForSequenceClassification were not initialized from the model checkpoint at /cygdrive/d/projects/LLM/.cache/models--google-bert--bert-base-cased/snapshots/cd5ef92a9fb2f889e972770a36d4ed042daf221e and are newly initialized: ['classifier.bias', 'classifier.weight']\n",
      "You should probably TRAIN this model on a down-stream task to be able to use it for predictions and inference.\n"
     ]
    },
    {
     "data": {
      "text/plain": [
       "PeftModelForSequenceClassification(\n",
       "  (base_model): LoraModel(\n",
       "    (model): BertForSequenceClassification(\n",
       "      (bert): BertModel(\n",
       "        (embeddings): BertEmbeddings(\n",
       "          (word_embeddings): Embedding(28996, 768, padding_idx=0)\n",
       "          (position_embeddings): Embedding(512, 768)\n",
       "          (token_type_embeddings): Embedding(2, 768)\n",
       "          (LayerNorm): LayerNorm((768,), eps=1e-12, elementwise_affine=True)\n",
       "          (dropout): Dropout(p=0.1, inplace=False)\n",
       "        )\n",
       "        (encoder): BertEncoder(\n",
       "          (layer): ModuleList(\n",
       "            (0-11): 12 x BertLayer(\n",
       "              (attention): BertAttention(\n",
       "                (self): BertSelfAttention(\n",
       "                  (query): Linear(\n",
       "                    in_features=768, out_features=768, bias=True\n",
       "                    (lora_dropout): Dropout(p=0.1, inplace=False)\n",
       "                    (lora_A): Linear(in_features=768, out_features=50, bias=False)\n",
       "                    (lora_B): Linear(in_features=50, out_features=768, bias=False)\n",
       "                  )\n",
       "                  (key): Linear(in_features=768, out_features=768, bias=True)\n",
       "                  (value): Linear(\n",
       "                    in_features=768, out_features=768, bias=True\n",
       "                    (lora_dropout): Dropout(p=0.1, inplace=False)\n",
       "                    (lora_A): Linear(in_features=768, out_features=50, bias=False)\n",
       "                    (lora_B): Linear(in_features=50, out_features=768, bias=False)\n",
       "                  )\n",
       "                  (dropout): Dropout(p=0.1, inplace=False)\n",
       "                )\n",
       "                (output): BertSelfOutput(\n",
       "                  (dense): Linear(in_features=768, out_features=768, bias=True)\n",
       "                  (LayerNorm): LayerNorm((768,), eps=1e-12, elementwise_affine=True)\n",
       "                  (dropout): Dropout(p=0.1, inplace=False)\n",
       "                )\n",
       "              )\n",
       "              (intermediate): BertIntermediate(\n",
       "                (dense): Linear(in_features=768, out_features=3072, bias=True)\n",
       "                (intermediate_act_fn): GELUActivation()\n",
       "              )\n",
       "              (output): BertOutput(\n",
       "                (dense): Linear(in_features=3072, out_features=768, bias=True)\n",
       "                (LayerNorm): LayerNorm((768,), eps=1e-12, elementwise_affine=True)\n",
       "                (dropout): Dropout(p=0.1, inplace=False)\n",
       "              )\n",
       "            )\n",
       "          )\n",
       "        )\n",
       "        (pooler): BertPooler(\n",
       "          (dense): Linear(in_features=768, out_features=768, bias=True)\n",
       "          (activation): Tanh()\n",
       "        )\n",
       "      )\n",
       "      (dropout): Dropout(p=0.1, inplace=False)\n",
       "      (classifier): Linear(in_features=768, out_features=2, bias=True)\n",
       "    )\n",
       "  )\n",
       ")"
      ]
     },
     "execution_count": 12,
     "metadata": {},
     "output_type": "execute_result"
    }
   ],
   "source": [
    "ft_model_dir = cache_dir + '/ft_lora_yelp_polarity'\n",
    "model_path = cache_dir + '/models--google-bert--bert-base-cased/snapshots/cd5ef92a9fb2f889e972770a36d4ed042daf221e'\n",
    "num_labels = 2\n",
    "model_pretrained = AutoModelForSequenceClassification.from_pretrained(model_path, \n",
    "                                                           num_labels=num_labels, \n",
    "                                                           cache_dir=cache_dir, \n",
    "                                                           local_files_only=True)\n",
    "model_lora = PeftModel.from_pretrained(model_pretrained, ft_model_dir)\n",
    "model_lora.to(device)\n",
    "model_lora.eval()"
   ]
  },
  {
   "cell_type": "code",
   "execution_count": 13,
   "id": "79c776c6",
   "metadata": {
    "scrolled": true
   },
   "outputs": [
    {
     "name": "stderr",
     "output_type": "stream",
     "text": [
      "We strongly recommend passing in an `attention_mask` since your input_ids may be padded. See https://huggingface.co/docs/transformers/troubleshooting#incorrect-output-when-padding-tokens-arent-masked.\n"
     ]
    },
    {
     "name": "stdout",
     "output_type": "stream",
     "text": [
      "CPU times: total: 21.8 s\n",
      "Wall time: 42.4 s\n"
     ]
    }
   ],
   "source": [
    "%%time\n",
    "\n",
    "#cls_embedding = torch.tensor([]).to('cuda')\n",
    "cls_embedding_lora = []\n",
    "\n",
    "with torch.no_grad():\n",
    "    for i in range(input_ids.shape[0]):\n",
    "        output = model_lora(input_ids[i].reshape(1,-1),\n",
    "                      output_hidden_states=True)\n",
    "        cls_embedding_lora.append(output.hidden_states[-1][0,0,:].cpu().numpy())\n",
    "cls_embedding_lora = np.array(cls_embedding_lora)"
   ]
  },
  {
   "cell_type": "code",
   "execution_count": 14,
   "id": "820fa300",
   "metadata": {},
   "outputs": [
    {
     "name": "stderr",
     "output_type": "stream",
     "text": [
      "D:\\cygdrive\\d\\projects\\LLM_py38\\venv\\lib\\site-packages\\sklearn\\cluster\\_kmeans.py:1416: FutureWarning: The default value of `n_init` will change from 10 to 'auto' in 1.4. Set the value of `n_init` explicitly to suppress the warning\n",
      "  super()._check_params_vs_input(X, default_n_init=10)\n"
     ]
    },
    {
     "data": {
      "text/plain": [
       "<matplotlib.collections.PathCollection at 0x1e85a13afa0>"
      ]
     },
     "execution_count": 14,
     "metadata": {},
     "output_type": "execute_result"
    },
    {
     "data": {
      "image/png": "[encoded data removed]",
      "text/plain": [
       "<Figure size 640x480 with 1 Axes>"
      ]
     },
     "metadata": {},
     "output_type": "display_data"
    }
   ],
   "source": [
    "pipe = Pipeline([('scaler',StandardScaler()),\n",
    "                 ('pca',PCA(n_components=20)),\n",
    "                 ('tsne',TSNE(perplexity=20, learning_rate=1, random_state=123))\n",
    "                ])\n",
    "cls_embedding_lora_tsne = pipe.fit_transform(cls_embedding_lora)\n",
    "km_lora = KMeans(n_clusters=20)\n",
    "km_lora.fit(cls_embedding_lora_tsne)\n",
    "\n",
    "plt.scatter(cls_embedding_lora_tsne[:,0],\n",
    "            cls_embedding_lora_tsne[:,1], \n",
    "            s=2,\n",
    "            c=km_lora.labels_)"
   ]
  },
  {
   "cell_type": "code",
   "execution_count": 15,
   "id": "47d8aedf",
   "metadata": {},
   "outputs": [],
   "source": [
    "nonzero_token_length = (np.array(small_train_dataset['input_ids'])!=0).sum(axis=1)\n",
    "\n",
    "df_comment_from_label = pd.DataFrame({'comment':small_train_dataset['text'],\n",
    "                                      'x':cls_embedding_lora_tsne[:,0],\n",
    "                                      'y':cls_embedding_lora_tsne[:,1],\n",
    "                                      'label':km_lora.labels_,\n",
    "                                      'nonzero_token_length':nonzero_token_length,\n",
    "                                      'sentiment':small_train_dataset['label']})"
   ]
  },
  {
   "cell_type": "code",
   "execution_count": 93,
   "id": "e275945b",
   "metadata": {},
   "outputs": [
    {
     "data": {
      "text/plain": [
       "MultiIndex([('nonzero_token_length', 'mean'),\n",
       "            ('nonzero_token_length',  'std')],\n",
       "           )"
      ]
     },
     "execution_count": 93,
     "metadata": {},
     "output_type": "execute_result"
    }
   ],
   "source": [
    "df_cluster_comment_length.columns"
   ]
  },
  {
   "cell_type": "code",
   "execution_count": 100,
   "id": "0768ad08",
   "metadata": {},
   "outputs": [],
   "source": [
    "df_cluster_comment_length = df_comment_from_label.groupby('label').agg({'nonzero_token_length':['mean','std']})\n",
    "df_cluster_comment_length.columns = ['length_mean','length_std']\n",
    "df_cluster_comment_sentiment = df_comment_from_label.groupby('label')['sentiment']\\\n",
    "                                .describe()[['count','mean','std']].sort_values('mean')"
   ]
  },
  {
   "cell_type": "code",
   "execution_count": 101,
   "id": "040ff164",
   "metadata": {},
   "outputs": [
    {
     "data": {
      "text/html": [
       "<div>\n",
       "<style scoped>\n",
       "    .dataframe tbody tr th:only-of-type {\n",
       "        vertical-align: middle;\n",
       "    }\n",
       "\n",
       "    .dataframe tbody tr th {\n",
       "        vertical-align: top;\n",
       "    }\n",
       "\n",
       "    .dataframe thead th {\n",
       "        text-align: right;\n",
       "    }\n",
       "</style>\n",
       "<table border=\"1\" class=\"dataframe\">\n",
       "  <thead>\n",
       "    <tr style=\"text-align: right;\">\n",
       "      <th></th>\n",
       "      <th>count</th>\n",
       "      <th>mean</th>\n",
       "      <th>std</th>\n",
       "      <th>length_mean</th>\n",
       "      <th>length_std</th>\n",
       "    </tr>\n",
       "    <tr>\n",
       "      <th>label</th>\n",
       "      <th></th>\n",
       "      <th></th>\n",
       "      <th></th>\n",
       "      <th></th>\n",
       "      <th></th>\n",
       "    </tr>\n",
       "  </thead>\n",
       "  <tbody>\n",
       "    <tr>\n",
       "      <th>2</th>\n",
       "      <td>66.0</td>\n",
       "      <td>0.030303</td>\n",
       "      <td>0.172733</td>\n",
       "      <td>163.136364</td>\n",
       "      <td>17.010301</td>\n",
       "    </tr>\n",
       "    <tr>\n",
       "      <th>8</th>\n",
       "      <td>62.0</td>\n",
       "      <td>0.048387</td>\n",
       "      <td>0.216335</td>\n",
       "      <td>249.548387</td>\n",
       "      <td>40.803278</td>\n",
       "    </tr>\n",
       "    <tr>\n",
       "      <th>5</th>\n",
       "      <td>39.0</td>\n",
       "      <td>0.051282</td>\n",
       "      <td>0.223456</td>\n",
       "      <td>392.615385</td>\n",
       "      <td>49.107624</td>\n",
       "    </tr>\n",
       "    <tr>\n",
       "      <th>12</th>\n",
       "      <td>55.0</td>\n",
       "      <td>0.054545</td>\n",
       "      <td>0.229184</td>\n",
       "      <td>120.163636</td>\n",
       "      <td>14.287736</td>\n",
       "    </tr>\n",
       "    <tr>\n",
       "      <th>14</th>\n",
       "      <td>33.0</td>\n",
       "      <td>0.060606</td>\n",
       "      <td>0.242306</td>\n",
       "      <td>504.030303</td>\n",
       "      <td>19.714343</td>\n",
       "    </tr>\n",
       "    <tr>\n",
       "      <th>15</th>\n",
       "      <td>52.0</td>\n",
       "      <td>0.134615</td>\n",
       "      <td>0.344642</td>\n",
       "      <td>265.384615</td>\n",
       "      <td>64.325201</td>\n",
       "    </tr>\n",
       "    <tr>\n",
       "      <th>11</th>\n",
       "      <td>54.0</td>\n",
       "      <td>0.185185</td>\n",
       "      <td>0.392095</td>\n",
       "      <td>74.907407</td>\n",
       "      <td>10.222558</td>\n",
       "    </tr>\n",
       "    <tr>\n",
       "      <th>9</th>\n",
       "      <td>44.0</td>\n",
       "      <td>0.409091</td>\n",
       "      <td>0.497350</td>\n",
       "      <td>108.272727</td>\n",
       "      <td>12.826868</td>\n",
       "    </tr>\n",
       "    <tr>\n",
       "      <th>13</th>\n",
       "      <td>33.0</td>\n",
       "      <td>0.424242</td>\n",
       "      <td>0.501890</td>\n",
       "      <td>142.696970</td>\n",
       "      <td>22.557544</td>\n",
       "    </tr>\n",
       "    <tr>\n",
       "      <th>4</th>\n",
       "      <td>66.0</td>\n",
       "      <td>0.530303</td>\n",
       "      <td>0.502905</td>\n",
       "      <td>22.515152</td>\n",
       "      <td>9.543814</td>\n",
       "    </tr>\n",
       "    <tr>\n",
       "      <th>17</th>\n",
       "      <td>72.0</td>\n",
       "      <td>0.597222</td>\n",
       "      <td>0.493899</td>\n",
       "      <td>47.680556</td>\n",
       "      <td>8.989550</td>\n",
       "    </tr>\n",
       "    <tr>\n",
       "      <th>1</th>\n",
       "      <td>53.0</td>\n",
       "      <td>0.679245</td>\n",
       "      <td>0.471233</td>\n",
       "      <td>76.811321</td>\n",
       "      <td>11.520979</td>\n",
       "    </tr>\n",
       "    <tr>\n",
       "      <th>16</th>\n",
       "      <td>68.0</td>\n",
       "      <td>0.705882</td>\n",
       "      <td>0.459033</td>\n",
       "      <td>227.750000</td>\n",
       "      <td>45.329103</td>\n",
       "    </tr>\n",
       "    <tr>\n",
       "      <th>18</th>\n",
       "      <td>24.0</td>\n",
       "      <td>0.791667</td>\n",
       "      <td>0.414851</td>\n",
       "      <td>32.375000</td>\n",
       "      <td>7.106718</td>\n",
       "    </tr>\n",
       "    <tr>\n",
       "      <th>7</th>\n",
       "      <td>38.0</td>\n",
       "      <td>0.815789</td>\n",
       "      <td>0.392859</td>\n",
       "      <td>51.657895</td>\n",
       "      <td>10.506822</td>\n",
       "    </tr>\n",
       "    <tr>\n",
       "      <th>0</th>\n",
       "      <td>47.0</td>\n",
       "      <td>0.872340</td>\n",
       "      <td>0.337318</td>\n",
       "      <td>450.000000</td>\n",
       "      <td>59.303567</td>\n",
       "    </tr>\n",
       "    <tr>\n",
       "      <th>10</th>\n",
       "      <td>47.0</td>\n",
       "      <td>0.957447</td>\n",
       "      <td>0.204030</td>\n",
       "      <td>87.659574</td>\n",
       "      <td>17.596043</td>\n",
       "    </tr>\n",
       "    <tr>\n",
       "      <th>6</th>\n",
       "      <td>63.0</td>\n",
       "      <td>0.984127</td>\n",
       "      <td>0.125988</td>\n",
       "      <td>240.349206</td>\n",
       "      <td>43.775143</td>\n",
       "    </tr>\n",
       "    <tr>\n",
       "      <th>3</th>\n",
       "      <td>46.0</td>\n",
       "      <td>1.000000</td>\n",
       "      <td>0.000000</td>\n",
       "      <td>135.739130</td>\n",
       "      <td>16.761642</td>\n",
       "    </tr>\n",
       "    <tr>\n",
       "      <th>19</th>\n",
       "      <td>38.0</td>\n",
       "      <td>1.000000</td>\n",
       "      <td>0.000000</td>\n",
       "      <td>146.921053</td>\n",
       "      <td>21.726036</td>\n",
       "    </tr>\n",
       "  </tbody>\n",
       "</table>\n",
       "</div>"
      ],
      "text/plain": [
       "       count      mean       std  length_mean  length_std\n",
       "label                                                    \n",
       "2       66.0  0.030303  0.172733   163.136364   17.010301\n",
       "8       62.0  0.048387  0.216335   249.548387   40.803278\n",
       "5       39.0  0.051282  0.223456   392.615385   49.107624\n",
       "12      55.0  0.054545  0.229184   120.163636   14.287736\n",
       "14      33.0  0.060606  0.242306   504.030303   19.714343\n",
       "15      52.0  0.134615  0.344642   265.384615   64.325201\n",
       "11      54.0  0.185185  0.392095    74.907407   10.222558\n",
       "9       44.0  0.409091  0.497350   108.272727   12.826868\n",
       "13      33.0  0.424242  0.501890   142.696970   22.557544\n",
       "4       66.0  0.530303  0.502905    22.515152    9.543814\n",
       "17      72.0  0.597222  0.493899    47.680556    8.989550\n",
       "1       53.0  0.679245  0.471233    76.811321   11.520979\n",
       "16      68.0  0.705882  0.459033   227.750000   45.329103\n",
       "18      24.0  0.791667  0.414851    32.375000    7.106718\n",
       "7       38.0  0.815789  0.392859    51.657895   10.506822\n",
       "0       47.0  0.872340  0.337318   450.000000   59.303567\n",
       "10      47.0  0.957447  0.204030    87.659574   17.596043\n",
       "6       63.0  0.984127  0.125988   240.349206   43.775143\n",
       "3       46.0  1.000000  0.000000   135.739130   16.761642\n",
       "19      38.0  1.000000  0.000000   146.921053   21.726036"
      ]
     },
     "execution_count": 101,
     "metadata": {},
     "output_type": "execute_result"
    }
   ],
   "source": [
    "df_cluster_comment_sentiment.join(df_cluster_comment_length)"
   ]
  },
  {
   "cell_type": "code",
   "execution_count": 18,
   "id": "6a35e081",
   "metadata": {},
   "outputs": [
    {
     "data": {
      "text/html": [
       "<div>\n",
       "<style scoped>\n",
       "    .dataframe tbody tr th:only-of-type {\n",
       "        vertical-align: middle;\n",
       "    }\n",
       "\n",
       "    .dataframe tbody tr th {\n",
       "        vertical-align: top;\n",
       "    }\n",
       "\n",
       "    .dataframe thead th {\n",
       "        text-align: right;\n",
       "    }\n",
       "</style>\n",
       "<table border=\"1\" class=\"dataframe\">\n",
       "  <thead>\n",
       "    <tr style=\"text-align: right;\">\n",
       "      <th></th>\n",
       "      <th>comment</th>\n",
       "      <th>x</th>\n",
       "      <th>y</th>\n",
       "      <th>label</th>\n",
       "      <th>nonzero_token_length</th>\n",
       "      <th>sentiment</th>\n",
       "    </tr>\n",
       "  </thead>\n",
       "  <tbody>\n",
       "    <tr>\n",
       "      <th>0</th>\n",
       "      <td>Decent size, decent selection, decent staff.\\n...</td>\n",
       "      <td>1.079602</td>\n",
       "      <td>0.126466</td>\n",
       "      <td>13</td>\n",
       "      <td>130</td>\n",
       "      <td>1</td>\n",
       "    </tr>\n",
       "    <tr>\n",
       "      <th>1</th>\n",
       "      <td>I have definitely experienced better! Let's se...</td>\n",
       "      <td>22.253769</td>\n",
       "      <td>-1.165080</td>\n",
       "      <td>5</td>\n",
       "      <td>465</td>\n",
       "      <td>0</td>\n",
       "    </tr>\n",
       "    <tr>\n",
       "      <th>2</th>\n",
       "      <td>Food is mediocre at best. I came in one day an...</td>\n",
       "      <td>-22.178694</td>\n",
       "      <td>-6.975071</td>\n",
       "      <td>4</td>\n",
       "      <td>38</td>\n",
       "      <td>0</td>\n",
       "    </tr>\n",
       "    <tr>\n",
       "      <th>3</th>\n",
       "      <td>Best casino in the PHX area.</td>\n",
       "      <td>-26.446384</td>\n",
       "      <td>-1.943219</td>\n",
       "      <td>4</td>\n",
       "      <td>11</td>\n",
       "      <td>1</td>\n",
       "    </tr>\n",
       "    <tr>\n",
       "      <th>4</th>\n",
       "      <td>This place is a must try! Truly a fan of Skinn...</td>\n",
       "      <td>7.768639</td>\n",
       "      <td>16.319305</td>\n",
       "      <td>6</td>\n",
       "      <td>206</td>\n",
       "      <td>1</td>\n",
       "    </tr>\n",
       "    <tr>\n",
       "      <th>...</th>\n",
       "      <td>...</td>\n",
       "      <td>...</td>\n",
       "      <td>...</td>\n",
       "      <td>...</td>\n",
       "      <td>...</td>\n",
       "      <td>...</td>\n",
       "    </tr>\n",
       "    <tr>\n",
       "      <th>995</th>\n",
       "      <td>Great welcoming staff &amp; friendly service.  The...</td>\n",
       "      <td>-18.098648</td>\n",
       "      <td>-9.443006</td>\n",
       "      <td>17</td>\n",
       "      <td>39</td>\n",
       "      <td>0</td>\n",
       "    </tr>\n",
       "    <tr>\n",
       "      <th>996</th>\n",
       "      <td>Trop d'attente, trop de pubs (\\u00e7a fait vom...</td>\n",
       "      <td>-14.382864</td>\n",
       "      <td>-5.867665</td>\n",
       "      <td>17</td>\n",
       "      <td>63</td>\n",
       "      <td>0</td>\n",
       "    </tr>\n",
       "    <tr>\n",
       "      <th>997</th>\n",
       "      <td>Beautiful men are a dime a dozen in Montreal, ...</td>\n",
       "      <td>-1.285205</td>\n",
       "      <td>-0.079022</td>\n",
       "      <td>9</td>\n",
       "      <td>118</td>\n",
       "      <td>1</td>\n",
       "    </tr>\n",
       "    <tr>\n",
       "      <th>998</th>\n",
       "      <td>The counter agent aggressively pushed the most...</td>\n",
       "      <td>15.750511</td>\n",
       "      <td>-13.660258</td>\n",
       "      <td>8</td>\n",
       "      <td>232</td>\n",
       "      <td>0</td>\n",
       "    </tr>\n",
       "    <tr>\n",
       "      <th>999</th>\n",
       "      <td>We stopped in on purpose this time since we ha...</td>\n",
       "      <td>4.029746</td>\n",
       "      <td>-1.559851</td>\n",
       "      <td>13</td>\n",
       "      <td>166</td>\n",
       "      <td>1</td>\n",
       "    </tr>\n",
       "  </tbody>\n",
       "</table>\n",
       "<p>1000 rows × 6 columns</p>\n",
       "</div>"
      ],
      "text/plain": [
       "                                               comment          x          y  \\\n",
       "0    Decent size, decent selection, decent staff.\\n...   1.079602   0.126466   \n",
       "1    I have definitely experienced better! Let's se...  22.253769  -1.165080   \n",
       "2    Food is mediocre at best. I came in one day an... -22.178694  -6.975071   \n",
       "3                         Best casino in the PHX area. -26.446384  -1.943219   \n",
       "4    This place is a must try! Truly a fan of Skinn...   7.768639  16.319305   \n",
       "..                                                 ...        ...        ...   \n",
       "995  Great welcoming staff & friendly service.  The... -18.098648  -9.443006   \n",
       "996  Trop d'attente, trop de pubs (\\u00e7a fait vom... -14.382864  -5.867665   \n",
       "997  Beautiful men are a dime a dozen in Montreal, ...  -1.285205  -0.079022   \n",
       "998  The counter agent aggressively pushed the most...  15.750511 -13.660258   \n",
       "999  We stopped in on purpose this time since we ha...   4.029746  -1.559851   \n",
       "\n",
       "     label  nonzero_token_length  sentiment  \n",
       "0       13                   130          1  \n",
       "1        5                   465          0  \n",
       "2        4                    38          0  \n",
       "3        4                    11          1  \n",
       "4        6                   206          1  \n",
       "..     ...                   ...        ...  \n",
       "995     17                    39          0  \n",
       "996     17                    63          0  \n",
       "997      9                   118          1  \n",
       "998      8                   232          0  \n",
       "999     13                   166          1  \n",
       "\n",
       "[1000 rows x 6 columns]"
      ]
     },
     "execution_count": 18,
     "metadata": {},
     "output_type": "execute_result"
    }
   ],
   "source": [
    "df_comment_from_label"
   ]
  },
  {
   "cell_type": "markdown",
   "id": "bf8175d5",
   "metadata": {},
   "source": [
    "## LDA"
   ]
  },
  {
   "cell_type": "code",
   "execution_count": 19,
   "id": "efee3c7f",
   "metadata": {},
   "outputs": [],
   "source": [
    "# lowercase\n",
    "# remove punctuations\n",
    "# tokenization\n",
    "# remove stopwords\n",
    "# lemmatization\n",
    "# tfidf\n",
    "# LDA"
   ]
  },
  {
   "cell_type": "markdown",
   "id": "59333d47",
   "metadata": {},
   "source": [
    "## LDA on cluster of words from BERT"
   ]
  },
  {
   "cell_type": "code",
   "execution_count": 20,
   "id": "708bded4",
   "metadata": {},
   "outputs": [
    {
     "name": "stdout",
     "output_type": "stream",
     "text": [
      "['i', 'me', 'my', 'myself', 'we', 'our', 'ours', 'ourselves', 'you', \"you're\", \"you've\", \"you'll\", \"you'd\", 'your', 'yours', 'yourself', 'yourselves', 'he', 'him', 'his', 'himself', 'she', \"she's\", 'her', 'hers', 'herself', 'it', \"it's\", 'its', 'itself', 'they', 'them', 'their', 'theirs', 'themselves', 'what', 'which', 'who', 'whom', 'this', 'that', \"that'll\", 'these', 'those', 'am', 'is', 'are', 'was', 'were', 'be', 'been', 'being', 'have', 'has', 'had', 'having', 'do', 'does', 'did', 'doing', 'a', 'an', 'the', 'and', 'but', 'if', 'or', 'because', 'as', 'until', 'while', 'of', 'at', 'by', 'for', 'with', 'about', 'against', 'between', 'into', 'through', 'during', 'before', 'after', 'above', 'below', 'to', 'from', 'up', 'down', 'in', 'out', 'on', 'off', 'over', 'under', 'again', 'further', 'then', 'once', 'here', 'there', 'when', 'where', 'why', 'how', 'all', 'any', 'both', 'each', 'few', 'more', 'most', 'other', 'some', 'such', 'no', 'nor', 'not', 'only', 'own', 'same', 'so', 'than', 'too', 'very', 's', 't', 'can', 'will', 'just', 'don', \"don't\", 'should', \"should've\", 'now', 'd', 'll', 'm', 'o', 're', 've', 'y', 'ain', 'aren', \"aren't\", 'couldn', \"couldn't\", 'didn', \"didn't\", 'doesn', \"doesn't\", 'hadn', \"hadn't\", 'hasn', \"hasn't\", 'haven', \"haven't\", 'isn', \"isn't\", 'ma', 'mightn', \"mightn't\", 'mustn', \"mustn't\", 'needn', \"needn't\", 'shan', \"shan't\", 'shouldn', \"shouldn't\", 'wasn', \"wasn't\", 'weren', \"weren't\", 'won', \"won't\", 'wouldn', \"wouldn't\"]\n"
     ]
    },
    {
     "name": "stderr",
     "output_type": "stream",
     "text": [
      "[nltk_data] Downloading package stopwords to\n",
      "[nltk_data]     C:\\Users\\jacky\\AppData\\Roaming\\nltk_data...\n",
      "[nltk_data]   Package stopwords is already up-to-date!\n"
     ]
    }
   ],
   "source": [
    "nltk.download('stopwords')\n",
    "print(stopwords.words('english'))"
   ]
  },
  {
   "cell_type": "code",
   "execution_count": 45,
   "id": "738ac2ab",
   "metadata": {},
   "outputs": [],
   "source": [
    "def remove_punctuation(x):\n",
    "    return x.translate(str.maketrans('', '', string.punctuation))\n",
    "\n",
    "def preprocess_pipeline(x):\n",
    "    x = x.lower()\n",
    "    x = remove_punctuation(x)\n",
    "    x = re.sub(\"\\d+\", \"\", x)\n",
    "    x = word_tokenize(x)\n",
    "    x = [s for s in x if s not in stopwords.words('english')]\n",
    "    x = list(set(x))\n",
    "    return x\n",
    "    \n",
    "class Lemmatizer:\n",
    "    def __init__(self):\n",
    "        self.lemmatizer = WordNetLemmatizer()\n",
    "        \n",
    "    def fit(self, X, y):\n",
    "        return self\n",
    "    \n",
    "    def nltk_pos_tagger(self, nltk_tag):\n",
    "        if nltk_tag.startswith('J'):\n",
    "            return wordnet.ADJ\n",
    "        elif nltk_tag.startswith('V'):\n",
    "            return wordnet.VERB\n",
    "        elif nltk_tag.startswith('N'):\n",
    "            return wordnet.NOUN\n",
    "        elif nltk_tag.startswith('R'):\n",
    "            return wordnet.ADV\n",
    "        else:\n",
    "            return None\n",
    "        \n",
    "    def lemmatize_sentence(self, sentence):\n",
    "        nltk_tagged = nltk.pos_tag(nltk.word_tokenize(sentence))\n",
    "        wordnet_tagged = map(lambda x: (x[0], self.nltk_pos_tagger(x[1])), nltk_tagged)\n",
    "        lemmatized_sentence = []\n",
    "        \n",
    "        for word, tag in wordnet_tagged:\n",
    "            if tag is None:\n",
    "                lemmatized_sentence.append(word)\n",
    "            else:\n",
    "                lemmatized_sentence.append(self.lemmatizer.lemmatize(word, tag))\n",
    "                \n",
    "        return str(lemmatized_sentence)\n",
    "    \n",
    "    def transform(self, x):\n",
    "        return list(map(lambda x: self.lemmatize_sentence(x), x))"
   ]
  },
  {
   "cell_type": "code",
   "execution_count": 46,
   "id": "97f3d8f1",
   "metadata": {},
   "outputs": [],
   "source": [
    "sample = list(map(preprocess_pipeline, small_train_dataset['text']))"
   ]
  },
  {
   "cell_type": "code",
   "execution_count": 49,
   "id": "825b9d4a",
   "metadata": {},
   "outputs": [],
   "source": [
    "df_comment_from_label['words'] = sample"
   ]
  },
  {
   "cell_type": "code",
   "execution_count": 38,
   "id": "9cbc8634",
   "metadata": {},
   "outputs": [
    {
     "data": {
      "text/plain": [
       "good          32\n",
       "place         31\n",
       "get           30\n",
       "like          29\n",
       "really        26\n",
       "              ..\n",
       "hence          1\n",
       "artificial     1\n",
       "progresses     1\n",
       "prominent      1\n",
       "itn            1\n",
       "Name: count, Length: 3232, dtype: int64"
      ]
     },
     "execution_count": 38,
     "metadata": {},
     "output_type": "execute_result"
    }
   ],
   "source": [
    "cluster = 0\n",
    "words_in_cluster = np.hstack([v for v in df_comment_from_label[df_comment_from_label['label']==cluster]['words']])\n",
    "pd.Series(words_in_cluster).value_counts()"
   ]
  },
  {
   "cell_type": "code",
   "execution_count": 51,
   "id": "debc9261",
   "metadata": {},
   "outputs": [],
   "source": [
    "# filter words with tfidf score > threshold\n",
    "\n",
    "vectorizer = TfidfVectorizer()\n",
    "X = vectorizer.fit_transform([' '.join(s) for s in sample])\n",
    "feature_names = vectorizer.get_feature_names_out()\n",
    "dense_matrix = X.toarray()\n",
    "\n",
    "filtered_words = []\n",
    "threshold = 0.05\n",
    "\n",
    "for doc_idx, doc in enumerate(dense_matrix):\n",
    "    doc_filtered_words = [feature_names[word_idx] for word_idx, tfidf_value in enumerate(doc) if tfidf_value >= threshold]\n",
    "    filtered_words.append(doc_filtered_words)\n",
    "    \n",
    "df_comment_from_label['words'] = filtered_words"
   ]
  },
  {
   "cell_type": "code",
   "execution_count": 55,
   "id": "339b6cb6",
   "metadata": {},
   "outputs": [],
   "source": [
    "words_in_topics = [list(itertools.chain(*df_comment_from_label[df_comment_from_label['label']==label]['words'].tolist())) \n",
    " for label in sorted(df_comment_from_label.label.unique())]"
   ]
  },
  {
   "cell_type": "code",
   "execution_count": 79,
   "id": "d876ae6c",
   "metadata": {},
   "outputs": [
    {
     "data": {
      "text/plain": [
       "food       21\n",
       "service    17\n",
       "place      16\n",
       "good       16\n",
       "great      15\n",
       "like       11\n",
       "price       9\n",
       "go          9\n",
       "better      9\n",
       "clean       8\n",
       "Name: count, dtype: int64"
      ]
     },
     "execution_count": 79,
     "metadata": {},
     "output_type": "execute_result"
    }
   ],
   "source": [
    "pd.Series(words_in_topics[17]).value_counts().head(10)"
   ]
  },
  {
   "cell_type": "code",
   "execution_count": 201,
   "id": "85ab67d2",
   "metadata": {},
   "outputs": [],
   "source": [
    "vectorizer = TfidfVectorizer()\n",
    "H = vectorizer.fit_transform([' '.join(s) for s in words_in_topics])\n",
    "feature_names_H = vectorizer.get_feature_names_out()\n",
    "dense_matrix_H = H.toarray()"
   ]
  },
  {
   "cell_type": "code",
   "execution_count": 204,
   "id": "9b25132a",
   "metadata": {},
   "outputs": [
    {
     "data": {
      "text/plain": [
       "(20, 11200)"
      ]
     },
     "execution_count": 204,
     "metadata": {},
     "output_type": "execute_result"
    }
   ],
   "source": [
    "dense_matrix_H.shape"
   ]
  },
  {
   "cell_type": "code",
   "execution_count": 205,
   "id": "6a36be05",
   "metadata": {},
   "outputs": [
    {
     "data": {
      "text/plain": [
       "array(['000', '030', '047ounce', ..., 'zpizza', 'zucchini', 'zum'],\n",
       "      dtype=object)"
      ]
     },
     "execution_count": 205,
     "metadata": {},
     "output_type": "execute_result"
    }
   ],
   "source": [
    "feature_names_H"
   ]
  },
  {
   "cell_type": "markdown",
   "id": "71ba3f02",
   "metadata": {},
   "source": [
    "## Matrix factorization"
   ]
  },
  {
   "cell_type": "code",
   "execution_count": null,
   "id": "44c474ca",
   "metadata": {},
   "outputs": [],
   "source": [
    "non_negative_factorization(X, H =, update_H=False)"
   ]
  }
 ],
 "metadata": {
  "kernelspec": {
   "display_name": "LLMpy38",
   "language": "python",
   "name": "llmpy38"
  },
  "language_info": {
   "codemirror_mode": {
    "name": "ipython",
    "version": 3
   },
   "file_extension": ".py",
   "mimetype": "text/x-python",
   "name": "python",
   "nbconvert_exporter": "python",
   "pygments_lexer": "ipython3",
   "version": "3.8.0"
  }
 },
 "nbformat": 4,
 "nbformat_minor": 5
}
