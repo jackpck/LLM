{
 "cells": [
  {
   "cell_type": "markdown",
   "id": "sexual-taxation",
   "metadata": {},
   "source": [
    "# Instruction-Tuning Demo\n",
    "In this demonstration, we will instruction-tune the [Flan-T5 Small model](https://huggingface.co/google/flan-t5-small) using the [SamSum dataset](https://huggingface.co/datasets/Samsung/samsum). The Flan-T5 model, developed by Google, is designed for various NLP tasks. The SamSum dataset, provided by Samsung, contains conversational summaries which are ideal for training summarization models."
   ]
  },
  {
   "cell_type": "markdown",
   "id": "norwegian-forestry",
   "metadata": {},
   "source": [
    "## Importing Libraries"
   ]
  },
  {
   "cell_type": "code",
   "execution_count": 1,
   "id": "aaeeb27e-4eb5-46c9-a2eb-e72502cf9176",
   "metadata": {},
   "outputs": [
    {
     "name": "stderr",
     "output_type": "stream",
     "text": [
      "The installed version of bitsandbytes was compiled without GPU support. 8-bit optimizers, 8-bit multiplication, and GPU quantization are unavailable.\n",
      "[nltk_data] Downloading package punkt to /h/ws_cpun/nltk_data...\n",
      "[nltk_data]   Package punkt is already up-to-date!\n"
     ]
    },
    {
     "data": {
      "text/plain": [
       "True"
      ]
     },
     "execution_count": 1,
     "metadata": {},
     "output_type": "execute_result"
    }
   ],
   "source": [
    "from typing import List, Union\n",
    "\n",
    "import evaluate\n",
    "import nltk\n",
    "import torch\n",
    "from datasets import DatasetDict, concatenate_datasets, load_dataset\n",
    "from tqdm import tqdm\n",
    "from transformers import (\n",
    "    AutoModelForSeq2SeqLM,\n",
    "    AutoTokenizer,\n",
    "    DataCollatorForSeq2Seq,\n",
    "    Seq2SeqTrainer,\n",
    "    Seq2SeqTrainingArguments,\n",
    ")\n",
    "\n",
    "nltk.download(\"punkt\")\n"
   ]
  },
  {
   "cell_type": "markdown",
   "id": "apart-aluminum",
   "metadata": {},
   "source": [
    "## Configuring Paths"
   ]
  },
  {
   "cell_type": "code",
   "execution_count": 2,
   "id": "voluntary-vancouver",
   "metadata": {},
   "outputs": [],
   "source": [
    "OUTPUT_DIR = \"../../scratch/instruct/\" # main directory of the the demo output"
   ]
  },
  {
   "cell_type": "code",
   "execution_count": 3,
   "id": "sufficient-niagara",
   "metadata": {},
   "outputs": [],
   "source": [
    "MODEL_NAME = \"google/flan-t5-small\"\n",
    "DATASET_NAME = \"samsum\""
   ]
  },
  {
   "cell_type": "markdown",
   "id": "6f5214b1-6891-4822-a019-bb60000f5121",
   "metadata": {},
   "source": [
    "## Preprocessing Data"
   ]
  },
  {
   "cell_type": "code",
   "execution_count": 4,
   "id": "fe52ec97-4e46-44c7-ac14-c1f59f85d048",
   "metadata": {},
   "outputs": [],
   "source": [
    "def get_samsum_data(tokenizer: AutoTokenizer) -> List[Union[DatasetDict, int, int]]:\n",
    "    # Load dataset from the hub\n",
    "    dataset = load_dataset(DATASET_NAME)\n",
    "\n",
    "    print(f\"Train dataset size: {len(dataset['train'])}\")\n",
    "    print(f\"Test dataset size: {len(dataset['test'])}\")\n",
    "\n",
    "    tokenized_inputs = concatenate_datasets([dataset[\"train\"], dataset[\"test\"]]).map(\n",
    "        lambda x: tokenizer(x[\"dialogue\"], truncation=True),\n",
    "        batched=True,\n",
    "        remove_columns=[\"dialogue\", \"summary\"],\n",
    "    )\n",
    "\n",
    "    max_source_length = max([len(x) for x in tokenized_inputs[\"input_ids\"]])\n",
    "    print(f\"Max source length: {max_source_length}\")\n",
    "\n",
    "    tokenized_targets = concatenate_datasets([dataset[\"train\"], dataset[\"test\"]]).map(\n",
    "        lambda x: tokenizer(x[\"summary\"], truncation=True),\n",
    "        batched=True,\n",
    "        remove_columns=[\"dialogue\", \"summary\"],\n",
    "    )\n",
    "\n",
    "    max_target_length = max([len(x) for x in tokenized_targets[\"input_ids\"]])\n",
    "    print(f\"Max target length: {max_target_length}\")\n",
    "\n",
    "    return dataset, max_source_length, max_target_length"
   ]
  },
  {
   "cell_type": "markdown",
   "id": "291c98a5-0492-4f35-89bc-fb2f5b1eb16a",
   "metadata": {},
   "source": [
    "## Tokenizing Data"
   ]
  },
  {
   "cell_type": "code",
   "execution_count": 5,
   "id": "845683dd-00db-4624-a4c7-ddcf6dbfa8e3",
   "metadata": {},
   "outputs": [
    {
     "name": "stderr",
     "output_type": "stream",
     "text": [
      "/fs01/projects/fta_bootcamp/envs/finetune_demo/lib/python3.10/site-packages/huggingface_hub/file_download.py:1132: FutureWarning: `resume_download` is deprecated and will be removed in version 1.0.0. Downloads always resume when possible. If you want to force a new download, use `force_download=True`.\n",
      "  warnings.warn(\n"
     ]
    }
   ],
   "source": [
    "tokenizer = AutoTokenizer.from_pretrained(MODEL_NAME)"
   ]
  },
  {
   "cell_type": "markdown",
   "id": "37ee8414-0e67-4436-8f8f-f8546fd1a159",
   "metadata": {},
   "source": [
    "#### Define what the instruction should look like:"
   ]
  },
  {
   "cell_type": "code",
   "execution_count": 6,
   "id": "4b5a0cd2-e2e4-41ac-a3aa-984f3cd54e74",
   "metadata": {},
   "outputs": [],
   "source": [
    "INSTRUCTION = \"Summarize the following conversation in at most 3 sentences: \""
   ]
  },
  {
   "cell_type": "code",
   "execution_count": 7,
   "id": "7567edc5-4ace-4982-9d53-bf01b03990f1",
   "metadata": {},
   "outputs": [
    {
     "name": "stderr",
     "output_type": "stream",
     "text": [
      "/fs01/projects/fta_bootcamp/envs/finetune_demo/lib/python3.10/site-packages/datasets/load.py:1486: FutureWarning: The repository for samsum contains custom code which must be executed to correctly load the dataset. You can inspect the repository content at https://hf.co/datasets/samsum\n",
      "You can avoid this message in future by passing the argument `trust_remote_code=True`.\n",
      "Passing `trust_remote_code=True` will be mandatory to load this dataset from the next major release of `datasets`.\n",
      "  warnings.warn(\n"
     ]
    },
    {
     "name": "stdout",
     "output_type": "stream",
     "text": [
      "Train dataset size: 14732\n",
      "Test dataset size: 819\n",
      "Max source length: 512\n"
     ]
    },
    {
     "data": {
      "application/vnd.jupyter.widget-view+json": {
       "model_id": "284c687e32af4d1cbdf9516f86cb6e3a",
       "version_major": 2,
       "version_minor": 0
      },
      "text/plain": [
       "Map:   0%|          | 0/15551 [00:00<?, ? examples/s]"
      ]
     },
     "metadata": {},
     "output_type": "display_data"
    },
    {
     "name": "stdout",
     "output_type": "stream",
     "text": [
      "Max target length: 95\n"
     ]
    },
    {
     "data": {
      "application/vnd.jupyter.widget-view+json": {
       "model_id": "905e1df8df424f17a33225aed47edb60",
       "version_major": 2,
       "version_minor": 0
      },
      "text/plain": [
       "Map:   0%|          | 0/819 [00:00<?, ? examples/s]"
      ]
     },
     "metadata": {},
     "output_type": "display_data"
    },
    {
     "name": "stdout",
     "output_type": "stream",
     "text": [
      "Keys of tokenized dataset: ['input_ids', 'attention_mask', 'labels']\n"
     ]
    }
   ],
   "source": [
    "def preprocess_function(sample, padding=\"max_length\"):\n",
    "    # add prefix to the input for t5\n",
    "    inputs = [INSTRUCTION + item for item in sample[\"dialogue\"]]\n",
    "\n",
    "    # tokenize inputs\n",
    "    model_inputs = tokenizer(\n",
    "        inputs, max_length=max_source_length, padding=padding, truncation=True,\n",
    "    )\n",
    "\n",
    "    labels = tokenizer(\n",
    "        text_target=sample[\"summary\"],\n",
    "        max_length=max_target_length,\n",
    "        padding=padding,\n",
    "        truncation=True,\n",
    "    )\n",
    "\n",
    "    if padding == \"max_length\":\n",
    "        labels[\"input_ids\"] = [\n",
    "            [(l if l != tokenizer.pad_token_id else -100) for l in label]\n",
    "            for label in labels[\"input_ids\"]\n",
    "        ]\n",
    "\n",
    "    model_inputs[\"labels\"] = labels[\"input_ids\"]\n",
    "    return model_inputs\n",
    "\n",
    "dataset, max_source_length, max_target_length = get_samsum_data(tokenizer)\n",
    "\n",
    "tokenized_dataset = dataset.map(\n",
    "    preprocess_function, batc\n",
    "    hed=True, remove_columns=[\"dialogue\", \"summary\", \"id\"],\n",
    ")\n",
    "print(f\"Keys of tokenized dataset: {list(tokenized_dataset['train'].features)}\")"
   ]
  },
  {
   "cell_type": "code",
   "execution_count": 11,
   "id": "7f4560d9-5e2b-4e0b-8938-bbfe91b6d7a9",
   "metadata": {},
   "outputs": [
    {
     "data": {
      "text/plain": [
       "[\"Amanda: I baked  cookies. Do you want some?\\r\\nJerry: Sure!\\r\\nAmanda: I'll bring you tomorrow :-)\",\n",
       " 'Olivia: Who are you voting for in this election? \\r\\nOliver: Liberals as always.\\r\\nOlivia: Me too!!\\r\\nOliver: Great',\n",
       " \"Tim: Hi, what's up?\\r\\nKim: Bad mood tbh, I was going to do lots of stuff but ended up procrastinating\\r\\nTim: What did you plan on doing?\\r\\nKim: Oh you know, uni stuff and unfucking my room\\r\\nKim: Maybe tomorrow I'll move my ass and do everything\\r\\nKim: We were going to defrost a fridge so instead of shopping I'll eat some defrosted veggies\\r\\nTim: For doing stuff I recommend Pomodoro technique where u use breaks for doing chores\\r\\nTim: It really helps\\r\\nKim: thanks, maybe I'll do that\\r\\nTim: I also like using post-its in kaban style\"]"
      ]
     },
     "execution_count": 11,
     "metadata": {},
     "output_type": "execute_result"
    }
   ],
   "source": [
    "dataset['train']['dialogue'][:3]"
   ]
  },
  {
   "cell_type": "code",
   "execution_count": 12,
   "id": "b68dd39c-4cfb-4ab3-aca5-1c7e981b1f04",
   "metadata": {},
   "outputs": [
    {
     "data": {
      "text/plain": [
       "['Amanda baked cookies and will bring Jerry some tomorrow.',\n",
       " 'Olivia and Olivier are voting for liberals in this election. ',\n",
       " 'Kim may try the pomodoro technique recommended by Tim to get more stuff done.']"
      ]
     },
     "execution_count": 12,
     "metadata": {},
     "output_type": "execute_result"
    }
   ],
   "source": [
    "dataset['train']['summary'][:3]"
   ]
  },
  {
   "cell_type": "markdown",
   "id": "mighty-community",
   "metadata": {},
   "source": [
    "## Training the Model"
   ]
  },
  {
   "cell_type": "code",
   "execution_count": 11,
   "id": "passive-hybrid",
   "metadata": {},
   "outputs": [
    {
     "data": {
      "application/vnd.jupyter.widget-view+json": {
       "model_id": "aa390fe59606479496fa30317ad98cd2",
       "version_major": 2,
       "version_minor": 0
      },
      "text/plain": [
       "config.json:   0%|          | 0.00/1.40k [00:00<?, ?B/s]"
      ]
     },
     "metadata": {},
     "output_type": "display_data"
    },
    {
     "data": {
      "application/vnd.jupyter.widget-view+json": {
       "model_id": "52956589242d4d378b28152e49c28078",
       "version_major": 2,
       "version_minor": 0
      },
      "text/plain": [
       "model.safetensors:   0%|          | 0.00/308M [00:00<?, ?B/s]"
      ]
     },
     "metadata": {},
     "output_type": "display_data"
    },
    {
     "data": {
      "application/vnd.jupyter.widget-view+json": {
       "model_id": "8e679ff5a7924d8abd5682120bee3eb8",
       "version_major": 2,
       "version_minor": 0
      },
      "text/plain": [
       "generation_config.json:   0%|          | 0.00/147 [00:00<?, ?B/s]"
      ]
     },
     "metadata": {},
     "output_type": "display_data"
    },
    {
     "name": "stderr",
     "output_type": "stream",
     "text": [
      "Detected kernel version 5.4.0, which is below the recommended minimum of 5.5.0; this can cause the process to hang. It is recommended to upgrade the kernel to the minimum version or higher.\n"
     ]
    },
    {
     "data": {
      "text/html": [
       "\n",
       "    <div>\n",
       "      \n",
       "      <progress value='185' max='185' style='width:300px; height:20px; vertical-align: middle;'></progress>\n",
       "      [185/185 01:13, Epoch 0/1]\n",
       "    </div>\n",
       "    <table border=\"1\" class=\"dataframe\">\n",
       "  <thead>\n",
       " <tr style=\"text-align: left;\">\n",
       "      <th>Epoch</th>\n",
       "      <th>Training Loss</th>\n",
       "      <th>Validation Loss</th>\n",
       "    </tr>\n",
       "  </thead>\n",
       "  <tbody>\n",
       "    <tr>\n",
       "      <td>0</td>\n",
       "      <td>2.020100</td>\n",
       "      <td>1.785159</td>\n",
       "    </tr>\n",
       "  </tbody>\n",
       "</table><p>"
      ],
      "text/plain": [
       "<IPython.core.display.HTML object>"
      ]
     },
     "metadata": {},
     "output_type": "display_data"
    },
    {
     "data": {
      "text/html": [
       "\n",
       "    <div>\n",
       "      \n",
       "      <progress value='103' max='103' style='width:300px; height:20px; vertical-align: middle;'></progress>\n",
       "      [103/103 00:11]\n",
       "    </div>\n",
       "    "
      ],
      "text/plain": [
       "<IPython.core.display.HTML object>"
      ]
     },
     "metadata": {},
     "output_type": "display_data"
    },
    {
     "name": "stdout",
     "output_type": "stream",
     "text": [
      "Training loss:2.0200536779455236|Val loss:1.7851594686508179\n"
     ]
    }
   ],
   "source": [
    "model = AutoModelForSeq2SeqLM.from_pretrained(MODEL_NAME)\n",
    "\n",
    "# Define training args\n",
    "training_args = Seq2SeqTrainingArguments(\n",
    "    do_train=True,\n",
    "    do_eval=True,\n",
    "    evaluation_strategy=\"epoch\",\n",
    "    logging_strategy=\"epoch\",\n",
    "    save_strategy=\"no\",\n",
    "    per_device_eval_batch_size=8,\n",
    "    per_device_train_batch_size=8,\n",
    "    gradient_accumulation_steps=1,\n",
    "    output_dir=OUTPUT_DIR,\n",
    "    auto_find_batch_size=True,\n",
    "    learning_rate=1e-3,\n",
    "    num_train_epochs=0.1,\n",
    "    logging_dir=f\"{OUTPUT_DIR}/logs\",\n",
    "    report_to=\"none\",\n",
    ")\n",
    "\n",
    "# we want to ignore tokenizer pad token in the loss\n",
    "label_pad_token_id = -100\n",
    "# Data collator\n",
    "data_collator = DataCollatorForSeq2Seq(\n",
    "    tokenizer,\n",
    "    model=model,\n",
    "    label_pad_token_id=label_pad_token_id,\n",
    "    pad_to_multiple_of=8,\n",
    ")\n",
    "\n",
    "# Create Trainer instance\n",
    "trainer = Seq2SeqTrainer(\n",
    "    model=model,\n",
    "    args=training_args,\n",
    "    train_dataset=tokenized_dataset[\"train\"],\n",
    "    eval_dataset=tokenized_dataset[\"test\"],\n",
    "    data_collator=data_collator,\n",
    ")\n",
    "model.config.use_cache = False\n",
    "\n",
    "trainer_stats = trainer.train()\n",
    "\n",
    "train_loss = trainer_stats.training_loss\n",
    "eval_stats = trainer.evaluate()\n",
    "eval_loss = eval_stats[\"eval_loss\"]\n",
    "print(f\"Training loss:{train_loss}|Val loss:{eval_loss}\")"
   ]
  },
  {
   "cell_type": "markdown",
   "id": "9cab8921-f0dc-43fc-a8de-6adf375c872a",
   "metadata": {},
   "source": [
    "## Inference and Evaluating"
   ]
  },
  {
   "cell_type": "markdown",
   "id": "mature-lancaster",
   "metadata": {},
   "source": [
    "#### Define what the instruction should look like:"
   ]
  },
  {
   "cell_type": "code",
   "execution_count": 12,
   "id": "demonstrated-sampling",
   "metadata": {},
   "outputs": [],
   "source": [
    "INSTRUCTION = \"Summarize the following conversation in at most 3 sentences: \""
   ]
  },
  {
   "cell_type": "code",
   "execution_count": 13,
   "id": "ae22b33a-1274-4ee0-97a6-0f9e39a8361f",
   "metadata": {},
   "outputs": [],
   "source": [
    "def infer_one_sample(model, tokenizer, prompt, max_target_length=50):\n",
    "    # generate summary\n",
    "    input_ids = tokenizer(\n",
    "        INSTRUCTION + prompt, return_tensors=\"pt\", truncation=True,\n",
    "    ).input_ids.cuda()\n",
    "\n",
    "    with torch.inference_mode():\n",
    "        outputs = model.generate(\n",
    "            input_ids=input_ids,\n",
    "            do_sample=True,\n",
    "            top_p=0.9,\n",
    "            max_new_tokens=max_target_length,\n",
    "        )\n",
    "        prediction = tokenizer.batch_decode(\n",
    "            outputs.detach().cpu().numpy(),\n",
    "            skip_special_tokens=True,\n",
    "        )[0]\n",
    "\n",
    "    return prediction"
   ]
  },
  {
   "cell_type": "code",
   "execution_count": 14,
   "id": "d8364866-e386-4036-bccf-16f5a88f84aa",
   "metadata": {},
   "outputs": [
    {
     "data": {
      "application/vnd.jupyter.widget-view+json": {
       "model_id": "7363fbc04e6744b19e2a943e8fcb3a60",
       "version_major": 2,
       "version_minor": 0
      },
      "text/plain": [
       "Downloading builder script:   0%|          | 0.00/6.27k [00:00<?, ?B/s]"
      ]
     },
     "metadata": {},
     "output_type": "display_data"
    },
    {
     "name": "stderr",
     "output_type": "stream",
     "text": [
      "/fs01/projects/fta_bootcamp/envs/finetune_demo/lib/python3.10/site-packages/datasets/load.py:1486: FutureWarning: The repository for samsum contains custom code which must be executed to correctly load the dataset. You can inspect the repository content at https://hf.co/datasets/samsum\n",
      "You can avoid this message in future by passing the argument `trust_remote_code=True`.\n",
      "Passing `trust_remote_code=True` will be mandatory to load this dataset from the next major release of `datasets`.\n",
      "  warnings.warn(\n",
      "100%|██████████| 819/819 [04:38<00:00,  2.94it/s]\n"
     ]
    },
    {
     "name": "stdout",
     "output_type": "stream",
     "text": [
      "rouge1: 39.178121%\n",
      "rouge2: 14.354108%\n",
      "rougeL: 30.986775%\n",
      "rougeLsum: 30.970417%\n"
     ]
    }
   ],
   "source": [
    "metric = evaluate.load(\"rouge\")\n",
    "\n",
    "dataset = load_dataset(DATASET_NAME)\n",
    "test_dataset = dataset[\"test\"]\n",
    "\n",
    "model.eval()\n",
    "\n",
    "predictions, references = [], []\n",
    "ctr = 0\n",
    "for sample in tqdm(test_dataset):\n",
    "    prediction = infer_one_sample(model, tokenizer, sample[\"dialogue\"])\n",
    "    predictions.append(prediction)\n",
    "    summary = sample[\"summary\"]\n",
    "    references.append(summary)\n",
    "\n",
    "# For demo on 10 samples, uncomment the following block:\n",
    "\"\"\"\n",
    "if ctr == 10:\n",
    "    break\n",
    "ctr += 1\n",
    "\"\"\"\n",
    "\n",
    "# compute metric\n",
    "rouge = metric.compute(\n",
    "    predictions=predictions, references=references, use_stemmer=True,\n",
    ")\n",
    "\n",
    "# print results\n",
    "print(f\"rouge1: {rouge['rouge1']* 100:2f}%\")\n",
    "print(f\"rouge2: {rouge['rouge2']* 100:2f}%\")\n",
    "print(f\"rougeL: {rouge['rougeL']* 100:2f}%\")\n",
    "print(f\"rougeLsum: {rouge['rougeLsum']* 100:2f}%\")"
   ]
  },
  {
   "cell_type": "code",
   "execution_count": null,
   "id": "forced-accountability",
   "metadata": {},
   "outputs": [],
   "source": [
    "\n"
   ]
  }
 ],
 "metadata": {
  "kernelspec": {
   "display_name": "finetune_demo",
   "language": "python",
   "name": "finetune_demo"
  },
  "language_info": {
   "codemirror_mode": {
    "name": "ipython",
    "version": 3
   },
   "file_extension": ".py",
   "mimetype": "text/x-python",
   "name": "python",
   "nbconvert_exporter": "python",
   "pygments_lexer": "ipython3",
   "version": "3.10.12"
  }
 },
 "nbformat": 4,
 "nbformat_minor": 5
}
