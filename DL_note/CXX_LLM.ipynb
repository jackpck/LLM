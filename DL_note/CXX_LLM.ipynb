{
 "cells": [
  {
   "cell_type": "markdown",
   "metadata": {},
   "source": [
    "### Foundation models [Ref](https://research.ibm.com/blog/what-are-foundation-models)\n",
    "\n",
    "### Retrieval Augmented Generation (RAG)  \n",
    "[ref](https://research.ibm.com/blog/retrieval-augmented-generation-RAG), \n",
    "[ref](https://arxiv.org/pdf/2005.11401v4.pdf), \n",
    "[ref](https://docs.cohere.com/docs/retrieval-augmented-generation-rag), \n",
    "[ref](https://arxiv.org/pdf/2312.10997.pdf)\n",
    "- parametric and non-parametric (retrieval-based) memory\n",
    "- differntiable retriever\n",
    "- RAG-sequence vs RAG-token\n",
    "- Vector database [Ref](https://www.ibm.com/topics/vector-database)\n",
    "\n",
    "### Fine-tuning [Ref](https://arxiv.org/pdf/2303.15647.pdf)\n",
    "\n",
    "### Prompt engineering\n",
    "\n",
    "### Data structure and algorithm\n",
    "- Information retrieval (e.g. Maximal Inner-Product Search (MIPS))\n",
    "- Searching (BFS, DFS, beam search)"
   ]
  },
  {
   "cell_type": "markdown",
   "metadata": {},
   "source": [
    "### RAG architecture\n",
    "\n",
    "- Document embedding + indexing $\\pmb d_\\eta(z)$ using BERT (encoder), also unknown as non-parametric memory\n",
    "- Query embedding $\\pmb q_\\eta(z)$ using BERT (encoder)\n",
    "- Generator $p_\\theta(y \\mid x, z)$ using BART (encoder-decoder)\n",
    "- Training:\n",
    "    - given query-response data $(x_i,y_i)$\n",
    "    - freeze $\\pmb d_\\eta(z)$, train $\\pmb q_\\eta(z)$ and $p_\\theta(y \\mid x, z)$ using Adam by minimizing negative marginal log-likelihood of each target $-\\sum_j \\log p(y_i \\mid x_i)$\n",
    "- Technical setup\n",
    "    - non-parametric memory: Wikipedia\n",
    "    - break each Wikipedia article into a 100-word sub-document. BERT embed each sub-document\n",
    "    - build document index using MIPS\n",
    "    - retrieve top $k$ document and marginalize over the document in the generator (RAG-sequence and RAG-token)"
   ]
  },
  {
   "cell_type": "code",
   "execution_count": null,
   "metadata": {},
   "outputs": [],
   "source": []
  }
 ],
 "metadata": {
  "kernelspec": {
   "display_name": "Python 3",
   "language": "python",
   "name": "python3"
  },
  "language_info": {
   "codemirror_mode": {
    "name": "ipython",
    "version": 3
   },
   "file_extension": ".py",
   "mimetype": "text/x-python",
   "name": "python",
   "nbconvert_exporter": "python",
   "pygments_lexer": "ipython3",
   "version": "3.7.6"
  }
 },
 "nbformat": 4,
 "nbformat_minor": 4
}
