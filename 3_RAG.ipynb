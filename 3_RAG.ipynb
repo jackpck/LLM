{
 "cells": [
  {
   "cell_type": "markdown",
   "id": "5aeda98c",
   "metadata": {},
   "source": [
    "# RAG\n",
    "See that ```RAG``` folder"
   ]
  },
  {
   "cell_type": "code",
   "execution_count": null,
   "id": "e695d014",
   "metadata": {},
   "outputs": [],
   "source": []
  }
 ],
 "metadata": {
  "kernelspec": {
   "display_name": "llm",
   "language": "python",
   "name": "llm"
  },
  "language_info": {
   "codemirror_mode": {
    "name": "ipython",
    "version": 3
   },
   "file_extension": ".py",
   "mimetype": "text/x-python",
   "name": "python",
   "nbconvert_exporter": "python",
   "pygments_lexer": "ipython3",
   "version": "3.7.4"
  }
 },
 "nbformat": 4,
 "nbformat_minor": 5
}
